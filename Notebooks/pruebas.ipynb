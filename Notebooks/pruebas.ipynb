{
 "cells": [
  {
   "cell_type": "code",
   "execution_count": null,
   "metadata": {},
   "outputs": [],
   "source": [
    "pip install fastparquet\n"
   ]
  },
  {
   "cell_type": "code",
   "execution_count": null,
   "metadata": {},
   "outputs": [],
   "source": [
    "import pandas as pd\n",
    "\n",
    "# Cargar el archivo Parquet en un DataFrame\n",
    "df = pd.read_parquet('../Datasets/user_reviews.parquet')"
   ]
  },
  {
   "cell_type": "code",
   "execution_count": null,
   "metadata": {},
   "outputs": [],
   "source": [
    "df\n"
   ]
  },
  {
   "cell_type": "code",
   "execution_count": null,
   "metadata": {},
   "outputs": [],
   "source": [
    "#Limpiar todas las variables definidas\n",
    "for variable in list(locals()):\n",
    "    del locals()[variable]"
   ]
  },
  {
   "cell_type": "code",
   "execution_count": null,
   "metadata": {},
   "outputs": [],
   "source": [
    "# Guarda el DataFrame df_reviews en formato CSV en el archivo 'user_reviews.csv' dentro de la carpeta 'Datasets', excluyendo la escritura de índices\n",
    "df_reviews.to_csv('Datasets/user_reviews.csv', index=False)"
   ]
  },
  {
   "cell_type": "code",
   "execution_count": null,
   "metadata": {},
   "outputs": [],
   "source": [
    "import pickle\n",
    "\n",
    "# Guardar el objeto en un archivo\n",
    "with open('df_items.pickle', 'wb') as file:\n",
    "    pickle.dump(df_items, file)"
   ]
  },
  {
   "cell_type": "code",
   "execution_count": null,
   "metadata": {},
   "outputs": [],
   "source": [
    "import pickle\n",
    "\n",
    "# Recuperar el objeto desde el archivo\n",
    "with open('df_items.pickle', 'rb') as file:\n",
    "    df_items = pickle.load(file)"
   ]
  },
  {
   "cell_type": "code",
   "execution_count": null,
   "metadata": {},
   "outputs": [],
   "source": [
    "pip install TextBlob"
   ]
  },
  {
   "cell_type": "code",
   "execution_count": null,
   "metadata": {},
   "outputs": [],
   "source": [
    "def PlayTimeGenre(genero):\n",
    "    # Filtrar el DataFrame de juegos por el género específico\n",
    "    juegos_genero = df_games[df_games['genres'].str.contains(genero, case=False)]\n",
    "\n",
    "    if juegos_genero.empty:\n",
    "        return json.dumps({f\"No hay datos para el género {genero}\": None}, ensure_ascii=False)\n",
    "\n",
    "    # Filtrar el DataFrame de items por los item_id de juegos_genero\n",
    "    items_genero = df_items[df_items['item_id'].isin(juegos_genero['item_id'])]\n",
    "\n",
    "    if items_genero.empty:\n",
    "        return json.dumps({f\"No hay datos de juego para el género {genero}\": None}, ensure_ascii=False)\n",
    "\n",
    "    # Agrupar y sumar las horas jugadas por año sin necesidad de fusión\n",
    "    grouped = items_genero.merge(juegos_genero, on='item_id').groupby('release_year')['playtime_forever'].sum()\n",
    "\n",
    "    if grouped.empty:\n",
    "        return json.dumps({f\"No hay datos de horas jugadas para el género {genero}\": None}, ensure_ascii=False)\n",
    "\n",
    "    # Encontrar el año con más horas jugadas\n",
    "    anio_mas_jugado = grouped.idxmax()\n",
    "\n",
    "    # Formatear el resultado como un diccionario y convertirlo a JSON\n",
    "    resultado = {f\"Año de lanzamiento con más horas jugadas para el género {genero}\": str(anio_mas_jugado)}\n",
    "    return json.dumps(resultado, ensure_ascii=False)"
   ]
  },
  {
   "cell_type": "code",
   "execution_count": null,
   "metadata": {},
   "outputs": [],
   "source": [
    "def UserForGenre1(genero):\n",
    "    # Filtrar columnas no necesarias desde el principio\n",
    "    relevant_df_games = df_games[['item_id', 'genres', 'release_year']]\n",
    "\n",
    "    # Filtrar datos solo para el género deseado\n",
    "    genre_filter = relevant_df_games[relevant_df_games['genres'].str.contains(genero, case=False)]\n",
    "\n",
    "    # Verificar si hay datos para el género dado\n",
    "    if genre_filter.empty:\n",
    "        return json.dumps({\"message\": f\"No hay datos para el género '{genero}'\"}, ensure_ascii=False)\n",
    "\n",
    "    # Merge con df_items solo con columnas relevantes\n",
    "    merged_df = pd.merge(genre_filter, df_items[['item_id', 'playtime_forever', 'user_id']], on='item_id')\n",
    "\n",
    "    # Encontrar el usuario con más horas jugadas\n",
    "    if 'user_id' in merged_df.columns:\n",
    "        user_max_hours = merged_df.groupby('user_id')['playtime_forever'].sum().idxmax()\n",
    "\n",
    "        # Filtrar para el usuario con más horas jugadas\n",
    "        user_info = merged_df[merged_df['user_id'] == user_max_hours]\n",
    "\n",
    "        # Calcular la acumulación de horas jugadas por año\n",
    "        hours_per_year = user_info.groupby('release_year')['playtime_forever'].sum().reset_index()\n",
    "        hours_per_year['playtime_forever'] = (hours_per_year['playtime_forever'] / 60).astype(int)  # Convertir minutos a horas\n",
    "\n",
    "        # Filtrar las filas con valores cero\n",
    "        hours_per_year = hours_per_year[hours_per_year['playtime_forever'] != 0]\n",
    "\n",
    "        # Renombrar columnas\n",
    "        hours_per_year = hours_per_year.rename(columns={'release_year': 'Año:', 'playtime_forever': 'Horas:'})\n",
    "\n",
    "        # Estructurar los resultados en un diccionario\n",
    "        result = {\n",
    "            f\"Usuario con más horas jugadas para Género {genero}\": user_max_hours,\n",
    "            \"Horas jugadas\": hours_per_year.to_dict(orient='records')\n",
    "        }\n",
    "\n",
    "        # Convertir el diccionario a formato JSON\n",
    "        json_result = json.dumps(result, ensure_ascii=False, indent=4)\n",
    "        return json_result\n",
    "    else:\n",
    "        return json.dumps({\"message\": \"No se encontró información de horas jugadas para el género dado\"}, ensure_ascii=False)"
   ]
  },
  {
   "cell_type": "code",
   "execution_count": null,
   "metadata": {},
   "outputs": [],
   "source": [
    "# Llamada a la función con el género deseado, por ejemplo 'Shooter'\n",
    "resultado_json = UserForGenre1('indie')\n",
    "print(resultado_json)  # Imprimir el resultado JSON"
   ]
  }
 ],
 "metadata": {
  "kernelspec": {
   "display_name": "SoyHenry",
   "language": "python",
   "name": "python3"
  },
  "language_info": {
   "codemirror_mode": {
    "name": "ipython",
    "version": 3
   },
   "file_extension": ".py",
   "mimetype": "text/x-python",
   "name": "python",
   "nbconvert_exporter": "python",
   "pygments_lexer": "ipython3",
   "version": "3.11.3"
  }
 },
 "nbformat": 4,
 "nbformat_minor": 2
}
