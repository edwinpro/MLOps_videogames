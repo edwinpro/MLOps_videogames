{
 "cells": [
  {
   "cell_type": "markdown",
   "metadata": {},
   "source": [
    "# Feature Engineering\n",
    "Para consultar nuestra API, requerimos una nueva columna que indique los sentimientos de las reseñas de usuarios. Usaremos una reconocida librería de procesamiento de lenguaje natural para facilitar este proceso."
   ]
  },
  {
   "cell_type": "markdown",
   "metadata": {},
   "source": [
    "## Importaciones"
   ]
  },
  {
   "cell_type": "code",
   "execution_count": 44,
   "metadata": {},
   "outputs": [],
   "source": [
    "import pandas as pd\n",
    "import json\n",
    "from textblob import TextBlob"
   ]
  },
  {
   "cell_type": "markdown",
   "metadata": {},
   "source": [
    "## Preparación de conjuntos de datos"
   ]
  },
  {
   "cell_type": "code",
   "execution_count": 45,
   "metadata": {},
   "outputs": [],
   "source": [
    "# Extraer datos desde los archivos 'parquet' con información que se preparo en la etapa de ETL\n",
    "df_games = pd.read_parquet('../Datasets/steam_games.parquet')\n",
    "df_items = pd.read_parquet('../Datasets/user_items.parquet')\n",
    "df_reviews = pd.read_parquet('../Datasets/user_reviews.parquet')"
   ]
  },
  {
   "cell_type": "code",
   "execution_count": 46,
   "metadata": {},
   "outputs": [
    {
     "data": {
      "text/plain": [
       "Index(['genres', 'item_id', 'release_year'], dtype='object')"
      ]
     },
     "execution_count": 46,
     "metadata": {},
     "output_type": "execute_result"
    }
   ],
   "source": [
    "df_games.columns"
   ]
  },
  {
   "cell_type": "code",
   "execution_count": 47,
   "metadata": {},
   "outputs": [
    {
     "data": {
      "text/plain": [
       "Index(['item_id', 'playtime_forever', 'user_id'], dtype='object')"
      ]
     },
     "execution_count": 47,
     "metadata": {},
     "output_type": "execute_result"
    }
   ],
   "source": [
    "df_items.columns"
   ]
  },
  {
   "cell_type": "code",
   "execution_count": 48,
   "metadata": {},
   "outputs": [
    {
     "data": {
      "text/plain": [
       "Index(['user_id', 'user_url', 'posted', 'item_id', 'helpful', 'recommend',\n",
       "       'review'],\n",
       "      dtype='object')"
      ]
     },
     "execution_count": 48,
     "metadata": {},
     "output_type": "execute_result"
    }
   ],
   "source": [
    "df_reviews.columns"
   ]
  },
  {
   "cell_type": "markdown",
   "metadata": {},
   "source": [
    "## Análisis de sentimientos\n",
    "Se pide crear una nueva columna llamada 'sentiment_analysis' que reemplace a 'review' donde se realice un análisis de sentimiento de los comentarios con la siguiente escala:\n",
    "\n",
    "0 si es malo,<br>\n",
    "1 si es neutral o esta sin review<br>\n",
    "2 si es positivo."
   ]
  },
  {
   "cell_type": "code",
   "execution_count": 49,
   "metadata": {},
   "outputs": [],
   "source": [
    "from textblob import TextBlob\n",
    "\n",
    "# Función para clasificar el sentimiento según la escala dada\n",
    "def classify_sentiment(polarity):\n",
    "    if polarity < -0.2:\n",
    "        return 0\n",
    "    elif polarity > 0.2:\n",
    "        return 2\n",
    "    else:\n",
    "        return 1\n",
    "\n",
    "# Aplicar el análisis de sentimiento y crear la nueva columna 'sentiment_analysis'\n",
    "df_reviews['sentiment_analysis'] = df_reviews['review'].apply(lambda x: classify_sentiment(TextBlob(x).sentiment.polarity))"
   ]
  },
  {
   "cell_type": "markdown",
   "metadata": {},
   "source": [
    "Finalmente, se elimina la columna de 'review'."
   ]
  },
  {
   "cell_type": "code",
   "execution_count": 50,
   "metadata": {},
   "outputs": [
    {
     "data": {
      "text/plain": [
       "Index(['user_id', 'user_url', 'posted', 'item_id', 'helpful', 'recommend',\n",
       "       'sentiment_analysis'],\n",
       "      dtype='object')"
      ]
     },
     "execution_count": 50,
     "metadata": {},
     "output_type": "execute_result"
    }
   ],
   "source": [
    "df_reviews = df_reviews.drop(columns=['review'])\n",
    "df_reviews.columns"
   ]
  },
  {
   "cell_type": "code",
   "execution_count": 51,
   "metadata": {},
   "outputs": [
    {
     "data": {
      "text/plain": [
       "user_id               0\n",
       "user_url              0\n",
       "posted                0\n",
       "item_id               0\n",
       "helpful               0\n",
       "recommend             0\n",
       "sentiment_analysis    0\n",
       "dtype: int64"
      ]
     },
     "execution_count": 51,
     "metadata": {},
     "output_type": "execute_result"
    }
   ],
   "source": [
    "#Verificamos si hay nulos\n",
    "df_reviews.isnull().sum().sort_values(ascending=False)"
   ]
  },
  {
   "cell_type": "markdown",
   "metadata": {},
   "source": [
    "## Género y el año con más horas jugadas"
   ]
  },
  {
   "cell_type": "markdown",
   "metadata": {},
   "source": [
    "Se crea el dataframe 'max_playtime_by_genre_year' con la información del año con más horas jugadas por género."
   ]
  },
  {
   "cell_type": "code",
   "execution_count": 52,
   "metadata": {},
   "outputs": [
    {
     "data": {
      "text/html": [
       "<div>\n",
       "<style scoped>\n",
       "    .dataframe tbody tr th:only-of-type {\n",
       "        vertical-align: middle;\n",
       "    }\n",
       "\n",
       "    .dataframe tbody tr th {\n",
       "        vertical-align: top;\n",
       "    }\n",
       "\n",
       "    .dataframe thead th {\n",
       "        text-align: right;\n",
       "    }\n",
       "</style>\n",
       "<table border=\"1\" class=\"dataframe\">\n",
       "  <thead>\n",
       "    <tr style=\"text-align: right;\">\n",
       "      <th></th>\n",
       "      <th>genres</th>\n",
       "      <th>release_year</th>\n",
       "      <th>playtime_forever</th>\n",
       "    </tr>\n",
       "  </thead>\n",
       "  <tbody>\n",
       "    <tr>\n",
       "      <th>26</th>\n",
       "      <td>Action</td>\n",
       "      <td>2012</td>\n",
       "      <td>1085635110</td>\n",
       "    </tr>\n",
       "    <tr>\n",
       "      <th>59</th>\n",
       "      <td>Adventure</td>\n",
       "      <td>2011</td>\n",
       "      <td>221707756</td>\n",
       "    </tr>\n",
       "    <tr>\n",
       "      <th>71</th>\n",
       "      <td>Animation &amp; Modeling</td>\n",
       "      <td>2015</td>\n",
       "      <td>1345545</td>\n",
       "    </tr>\n",
       "    <tr>\n",
       "      <th>75</th>\n",
       "      <td>Audio Production</td>\n",
       "      <td>2014</td>\n",
       "      <td>455463</td>\n",
       "    </tr>\n",
       "    <tr>\n",
       "      <th>104</th>\n",
       "      <td>Casual</td>\n",
       "      <td>2015</td>\n",
       "      <td>81708365</td>\n",
       "    </tr>\n",
       "    <tr>\n",
       "      <th>109</th>\n",
       "      <td>Design &amp; Illustration</td>\n",
       "      <td>2012</td>\n",
       "      <td>1930339</td>\n",
       "    </tr>\n",
       "    <tr>\n",
       "      <th>116</th>\n",
       "      <td>Early Access</td>\n",
       "      <td>2013</td>\n",
       "      <td>118902893</td>\n",
       "    </tr>\n",
       "    <tr>\n",
       "      <th>124</th>\n",
       "      <td>Education</td>\n",
       "      <td>2013</td>\n",
       "      <td>340567</td>\n",
       "    </tr>\n",
       "    <tr>\n",
       "      <th>141</th>\n",
       "      <td>Free to Play</td>\n",
       "      <td>2013</td>\n",
       "      <td>146213734</td>\n",
       "    </tr>\n",
       "    <tr>\n",
       "      <th>158</th>\n",
       "      <td>Indie</td>\n",
       "      <td>2006</td>\n",
       "      <td>446115272</td>\n",
       "    </tr>\n",
       "    <tr>\n",
       "      <th>178</th>\n",
       "      <td>Massively Multiplayer</td>\n",
       "      <td>2013</td>\n",
       "      <td>133376503</td>\n",
       "    </tr>\n",
       "    <tr>\n",
       "      <th>186</th>\n",
       "      <td>Photo Editing</td>\n",
       "      <td>2014</td>\n",
       "      <td>61659</td>\n",
       "    </tr>\n",
       "    <tr>\n",
       "      <th>208</th>\n",
       "      <td>RPG</td>\n",
       "      <td>2011</td>\n",
       "      <td>227959458</td>\n",
       "    </tr>\n",
       "    <tr>\n",
       "      <th>235</th>\n",
       "      <td>Racing</td>\n",
       "      <td>2015</td>\n",
       "      <td>37474907</td>\n",
       "    </tr>\n",
       "    <tr>\n",
       "      <th>257</th>\n",
       "      <td>Simulation</td>\n",
       "      <td>2006</td>\n",
       "      <td>444536391</td>\n",
       "    </tr>\n",
       "    <tr>\n",
       "      <th>273</th>\n",
       "      <td>Software Training</td>\n",
       "      <td>2014</td>\n",
       "      <td>412697</td>\n",
       "    </tr>\n",
       "    <tr>\n",
       "      <th>288</th>\n",
       "      <td>Sports</td>\n",
       "      <td>2015</td>\n",
       "      <td>41305040</td>\n",
       "    </tr>\n",
       "    <tr>\n",
       "      <th>314</th>\n",
       "      <td>Strategy</td>\n",
       "      <td>2013</td>\n",
       "      <td>145266750</td>\n",
       "    </tr>\n",
       "    <tr>\n",
       "      <th>324</th>\n",
       "      <td>Utilities</td>\n",
       "      <td>2014</td>\n",
       "      <td>2711695</td>\n",
       "    </tr>\n",
       "    <tr>\n",
       "      <th>333</th>\n",
       "      <td>Video Production</td>\n",
       "      <td>2015</td>\n",
       "      <td>1662650</td>\n",
       "    </tr>\n",
       "    <tr>\n",
       "      <th>337</th>\n",
       "      <td>Web Publishing</td>\n",
       "      <td>2012</td>\n",
       "      <td>1930339</td>\n",
       "    </tr>\n",
       "  </tbody>\n",
       "</table>\n",
       "</div>"
      ],
      "text/plain": [
       "                    genres  release_year  playtime_forever\n",
       "26                  Action          2012        1085635110\n",
       "59               Adventure          2011         221707756\n",
       "71    Animation & Modeling          2015           1345545\n",
       "75        Audio Production          2014            455463\n",
       "104                 Casual          2015          81708365\n",
       "109  Design & Illustration          2012           1930339\n",
       "116           Early Access          2013         118902893\n",
       "124              Education          2013            340567\n",
       "141           Free to Play          2013         146213734\n",
       "158                  Indie          2006         446115272\n",
       "178  Massively Multiplayer          2013         133376503\n",
       "186          Photo Editing          2014             61659\n",
       "208                    RPG          2011         227959458\n",
       "235                 Racing          2015          37474907\n",
       "257             Simulation          2006         444536391\n",
       "273      Software Training          2014            412697\n",
       "288                 Sports          2015          41305040\n",
       "314               Strategy          2013         145266750\n",
       "324              Utilities          2014           2711695\n",
       "333       Video Production          2015           1662650\n",
       "337         Web Publishing          2012           1930339"
      ]
     },
     "execution_count": 52,
     "metadata": {},
     "output_type": "execute_result"
    }
   ],
   "source": [
    "# Crear un dataframe combinando la información necesaria\n",
    "combined_df = pd.merge(df_items, df_games[['item_id', 'release_year', 'genres']], on='item_id', how='left')\n",
    "\n",
    "# Agrupar por género, año y sumar las horas jugadas\n",
    "grouped = combined_df.groupby(['genres', 'release_year'])['playtime_forever'].sum().reset_index()\n",
    "\n",
    "# Encontrar el año con más horas jugadas por género\n",
    "max_playtime_by_genre_year = grouped.loc[grouped.groupby('genres')['playtime_forever'].idxmax()]\n",
    "\n",
    "# Convertir la columna 'release_year' de flotante a entero\n",
    "max_playtime_by_genre_year['release_year'] = max_playtime_by_genre_year['release_year'].astype(int)\n",
    "\n",
    "# Mostrar el resultado\n",
    "max_playtime_by_genre_year\n",
    "\n"
   ]
  },
  {
   "cell_type": "markdown",
   "metadata": {},
   "source": [
    "Dataframe con el usuario que acumula más horas jugadas por género"
   ]
  },
  {
   "cell_type": "code",
   "execution_count": 55,
   "metadata": {},
   "outputs": [
    {
     "name": "stdout",
     "output_type": "stream",
     "text": [
      "Dataframe con el usuario que acumula más horas jugadas por género:\n",
      "                  user_id                 genres  playtime_forever\n",
      "485519            Sp3ctre                 Action           1692650\n",
      "472192       REBAS_AS_F-T              Adventure           2182066\n",
      "479391         ScottyG555   Animation & Modeling            168314\n",
      "447836        Lickidactyl       Audio Production            109916\n",
      "472195       REBAS_AS_F-T                 Casual           1224933\n",
      "479393         ScottyG555  Design & Illustration            168314\n",
      "18051   76561197978756659           Early Access            316969\n",
      "160609  76561198059330972              Education             65427\n",
      "570659         idonothack           Free to Play            808241\n",
      "472200       REBAS_AS_F-T                  Indie           2401378\n",
      "417826        Evilutional  Massively Multiplayer            688260\n",
      "483274           Sky_Wolf          Photo Editing             21885\n",
      "634706        shinomegami                    RPG           1023495\n",
      "412843    DownSyndromeKid                 Racing            743445\n",
      "577998           jimmynoe             Simulation           1062130\n",
      "447845        Lickidactyl      Software Training            109916\n",
      "26187   76561197995725436                 Sports            193206\n",
      "634711        shinomegami               Strategy           1104450\n",
      "248243  76561198073642113              Utilities            207651\n",
      "479403         ScottyG555       Video Production            168314\n",
      "506902            Xyphien         Web Publishing            142964\n"
     ]
    }
   ],
   "source": [
    "# Combinar los dataframes df_games y df_items en función de 'item_id'\n",
    "merged_df = pd.merge(df_games, df_items, on='item_id')\n",
    "\n",
    "# Convertir las horas jugadas a horas en lugar de minutos\n",
    "#merged_df['playtime_hours'] = merged_df['playtime_forever'] / 60\n",
    "\n",
    "# Calcular la suma total de horas jugadas por usuario y género\n",
    "user_genre_playtime = merged_df.groupby(['user_id', 'genres'])['playtime_forever'].sum().reset_index()\n",
    "\n",
    "# Encontrar el usuario que acumula más horas jugadas por género\n",
    "max_playtime_per_genre = user_genre_playtime.loc[user_genre_playtime.groupby('genres')['playtime_forever'].idxmax()]\n",
    "\n",
    "\n",
    "# Imprimir o trabajar con los resultados\n",
    "print(\"Dataframe con el usuario que acumula más horas jugadas por género:\")\n",
    "print(max_playtime_per_genre)"
   ]
  },
  {
   "cell_type": "code",
   "execution_count": 56,
   "metadata": {},
   "outputs": [
    {
     "data": {
      "text/plain": [
       "Index(['user_id', 'genres', 'playtime_forever'], dtype='object')"
      ]
     },
     "execution_count": 56,
     "metadata": {},
     "output_type": "execute_result"
    }
   ],
   "source": [
    "max_playtime_per_genre.columns"
   ]
  },
  {
   "cell_type": "markdown",
   "metadata": {},
   "source": [
    "Dataframe con la acumulación de horas jugadas por año de los usuarios del dataframe 'max_playtime_per_genre'"
   ]
  },
  {
   "cell_type": "code",
   "execution_count": 57,
   "metadata": {},
   "outputs": [
    {
     "name": "stdout",
     "output_type": "stream",
     "text": [
      "\n",
      "Dataframe con la acumulación de horas jugadas por año de los usuarios contenidos en el punto 1:\n",
      "               user_id  release_year  playtime_total_hours\n",
      "0    76561197978756659        1998.0              0.000000\n",
      "1    76561197978756659        1999.0              0.133333\n",
      "2    76561197978756659        2000.0              0.000000\n",
      "3    76561197978756659        2001.0              0.000000\n",
      "4    76561197978756659        2003.0              0.000000\n",
      "..                 ...           ...                   ...\n",
      "292        shinomegami        2013.0          18116.283333\n",
      "293        shinomegami        2014.0          18525.700000\n",
      "294        shinomegami        2015.0          18367.966667\n",
      "295        shinomegami        2016.0           2246.016667\n",
      "296        shinomegami        2017.0              6.750000\n",
      "\n",
      "[297 rows x 3 columns]\n"
     ]
    }
   ],
   "source": [
    "# Obtener los usuarios contenidos en el dataframe obtenido en el punto 1\n",
    "users_of_interest = max_playtime_per_genre['user_id'].unique()\n",
    "\n",
    "# Filtrar el dataframe original de items para incluir solo a estos usuarios\n",
    "filtered_items_df = df_items[df_items['user_id'].isin(users_of_interest)]\n",
    "\n",
    "# Combinar los dataframes df_games y el filtrado de items en función de 'item_id'\n",
    "filtered_merged_df = pd.merge(df_games, filtered_items_df, on='item_id')\n",
    "\n",
    "# Calcular la suma total de horas jugadas por año\n",
    "playtime_per_year = filtered_merged_df.groupby(['user_id', 'release_year'])['playtime_forever'].sum().reset_index()\n",
    "playtime_per_year.rename(columns={'playtime_forever': 'playtime_total_minutes'}, inplace=True)\n",
    "\n",
    "# Convertir las horas jugadas a horas en lugar de minutos\n",
    "playtime_per_year['playtime_total_hours'] = playtime_per_year['playtime_total_minutes'] / 60\n",
    "\n",
    "# Resumen de horas jugadas por año de los usuarios seleccionados por género\n",
    "summary_playtime_per_year = playtime_per_year.groupby(['user_id', 'release_year'])['playtime_total_hours'].sum().reset_index()\n",
    "\n",
    "print(\"\\nDataframe con la acumulación de horas jugadas por año de los usuarios contenidos en el punto 1:\")\n",
    "print(summary_playtime_per_year)"
   ]
  },
  {
   "cell_type": "code",
   "execution_count": 58,
   "metadata": {},
   "outputs": [
    {
     "data": {
      "text/plain": [
       "Index(['user_id', 'release_year', 'playtime_total_hours'], dtype='object')"
      ]
     },
     "execution_count": 58,
     "metadata": {},
     "output_type": "execute_result"
    }
   ],
   "source": [
    "summary_playtime_per_year.columns"
   ]
  },
  {
   "cell_type": "markdown",
   "metadata": {},
   "source": [
    "## Carga de los dataframe\n",
    "Se almacenan los dataframes en formato Parquet para optimizar la estructura de datos en el despliegue."
   ]
  },
  {
   "cell_type": "code",
   "execution_count": 61,
   "metadata": {},
   "outputs": [
    {
     "name": "stdout",
     "output_type": "stream",
     "text": [
      "DataFrame 'max_playtime_by_genre_year' guardado como '../Datasets/max_playtime_by_genre_year.parquet'\n",
      "DataFrame 'max_playtime_per_genre' guardado como '../Datasets/max_playtime_per_genre.parquet'\n",
      "DataFrame 'summary_playtime_per_year' guardado como '../Datasets/summary_playtime_per_year.parquet'\n"
     ]
    }
   ],
   "source": [
    "dfs = [max_playtime_by_genre_year, max_playtime_per_genre, summary_playtime_per_year]\n",
    "# Nombres correspondientes a cada DataFrame\n",
    "names = ['max_playtime_by_genre_year', 'max_playtime_per_genre', 'summary_playtime_per_year']\n",
    "\n",
    "for df, name in zip(dfs, names):\n",
    "    archivo = f'../Datasets/{name}.parquet'\n",
    "    df.to_parquet(archivo)\n",
    "    print(f\"DataFrame '{name}' guardado como '{archivo}'\")"
   ]
  }
 ],
 "metadata": {
  "kernelspec": {
   "display_name": "SoyHenry",
   "language": "python",
   "name": "python3"
  },
  "language_info": {
   "codemirror_mode": {
    "name": "ipython",
    "version": 3
   },
   "file_extension": ".py",
   "mimetype": "text/x-python",
   "name": "python",
   "nbconvert_exporter": "python",
   "pygments_lexer": "ipython3",
   "version": "3.11.5"
  }
 },
 "nbformat": 4,
 "nbformat_minor": 2
}
