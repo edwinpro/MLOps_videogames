{
 "cells": [
  {
   "cell_type": "markdown",
   "metadata": {},
   "source": [
    "# Modelo de recomendación de juegos"
   ]
  },
  {
   "cell_type": "markdown",
   "metadata": {},
   "source": [
    "En esta notebook se experimenta para crear dos modelos de recomendación de juegos. \n",
    "\n",
    "1. El primer modelo emplea relaciones entre juegos para recomendar títulos similares basados en un juego ingresado. \n",
    "2. El segundo modelo utiliza un enfoque de filtro usuario-juego, recomendando juegos basados en usuarios similares a uno dado. \n",
    "\n",
    "Ambos modelos utilizan algoritmos de memoria para el \"filtrado colaborativo\", buscando usuarios similares y empleando sus preferencias para predecir las valoraciones del usuario activo."
   ]
  },
  {
   "cell_type": "markdown",
   "metadata": {},
   "source": [
    "## Importaciones"
   ]
  },
  {
   "cell_type": "code",
   "execution_count": 79,
   "metadata": {},
   "outputs": [],
   "source": [
    "import pandas as pd\n",
    "from sklearn.metrics.pairwise import cosine_similarity"
   ]
  },
  {
   "cell_type": "markdown",
   "metadata": {},
   "source": [
    "## Datos a utilizar"
   ]
  },
  {
   "cell_type": "markdown",
   "metadata": {},
   "source": [
    "Se leen los datos que se prepararon luego del EDA y se convierten en dataframe para ser utilizados por el modelo."
   ]
  },
  {
   "cell_type": "code",
   "execution_count": 80,
   "metadata": {},
   "outputs": [
    {
     "data": {
      "text/html": [
       "<div>\n",
       "<style scoped>\n",
       "    .dataframe tbody tr th:only-of-type {\n",
       "        vertical-align: middle;\n",
       "    }\n",
       "\n",
       "    .dataframe tbody tr th {\n",
       "        vertical-align: top;\n",
       "    }\n",
       "\n",
       "    .dataframe thead th {\n",
       "        text-align: right;\n",
       "    }\n",
       "</style>\n",
       "<table border=\"1\" class=\"dataframe\">\n",
       "  <thead>\n",
       "    <tr style=\"text-align: right;\">\n",
       "      <th></th>\n",
       "      <th>user_id</th>\n",
       "      <th>item_id</th>\n",
       "      <th>rating</th>\n",
       "      <th>item_name</th>\n",
       "    </tr>\n",
       "  </thead>\n",
       "  <tbody>\n",
       "    <tr>\n",
       "      <th>0</th>\n",
       "      <td>76561197970982479</td>\n",
       "      <td>1250</td>\n",
       "      <td>3</td>\n",
       "      <td>Killing Floor</td>\n",
       "    </tr>\n",
       "    <tr>\n",
       "      <th>1</th>\n",
       "      <td>js41637</td>\n",
       "      <td>251610</td>\n",
       "      <td>3</td>\n",
       "      <td>Barbie™ Dreamhouse Party™</td>\n",
       "    </tr>\n",
       "    <tr>\n",
       "      <th>2</th>\n",
       "      <td>doctr</td>\n",
       "      <td>250320</td>\n",
       "      <td>5</td>\n",
       "      <td>The Wolf Among Us</td>\n",
       "    </tr>\n",
       "  </tbody>\n",
       "</table>\n",
       "</div>"
      ],
      "text/plain": [
       "             user_id  item_id  rating                  item_name\n",
       "0  76561197970982479     1250       3              Killing Floor\n",
       "1            js41637   251610       3  Barbie™ Dreamhouse Party™\n",
       "2              doctr   250320       5          The Wolf Among Us"
      ]
     },
     "execution_count": 80,
     "metadata": {},
     "output_type": "execute_result"
    }
   ],
   "source": [
    "df_modelo = pd.read_parquet('../Datasets/recomendacion.parquet')\n",
    "df_modelo.head(3)"
   ]
  },
  {
   "cell_type": "markdown",
   "metadata": {},
   "source": [
    "## Función de recomendación según un juego (item-item)"
   ]
  },
  {
   "cell_type": "markdown",
   "metadata": {},
   "source": [
    "Se propone una función para recomendar 5 juegos basados en la similitud con un juego dado. La función toma el nombre de un juego, ordena la matriz de similitud de juegos y elige los 5 más similares, excluyendo el juego de entrada. Luego, imprime esta lista de juegos similares al especificado."
   ]
  },
  {
   "cell_type": "markdown",
   "metadata": {},
   "source": [
    "#### Preprocesar los datos y almacenar la información relevante en un nuevo DataFrame."
   ]
  },
  {
   "cell_type": "code",
   "execution_count": 81,
   "metadata": {},
   "outputs": [
    {
     "name": "stderr",
     "output_type": "stream",
     "text": [
      "C:\\Users\\Usuario\\AppData\\Local\\Temp\\ipykernel_8412\\1305628876.py:3: SettingWithCopyWarning: \n",
      "A value is trying to be set on a copy of a slice from a DataFrame\n",
      "\n",
      "See the caveats in the documentation: https://pandas.pydata.org/pandas-docs/stable/user_guide/indexing.html#returning-a-view-versus-a-copy\n",
      "  unique_item_ids.drop(columns=['user_id','rating'],inplace=True)\n"
     ]
    }
   ],
   "source": [
    "# Obtenemos una tabla con registros unicos de cada juego\n",
    "unique_item_ids = df_modelo.drop_duplicates(subset='item_id')\n",
    "unique_item_ids.drop(columns=['user_id','rating'],inplace=True)"
   ]
  },
  {
   "cell_type": "code",
   "execution_count": 82,
   "metadata": {},
   "outputs": [],
   "source": [
    "# reducimos el data por una cuestion de espacio en render, pero sin que afecte la calidad de los datos\n",
    "df_modelo = df_modelo.sample(frac=0.125, random_state=1)"
   ]
  },
  {
   "cell_type": "code",
   "execution_count": 76,
   "metadata": {},
   "outputs": [],
   "source": [
    "# Calcular la matriz de similitud de cosenos y preprocesar los datos\n",
    "item_vectors = df_modelo.pivot_table(index='item_id', columns='user_id', values='rating', aggfunc='mean').fillna(0)"
   ]
  },
  {
   "cell_type": "markdown",
   "metadata": {},
   "source": [
    "## Función de recomendación según un usuario (user-item)"
   ]
  },
  {
   "cell_type": "markdown",
   "metadata": {},
   "source": [
    "La siguiente función tiene la finalidad de Ingresando el id de un usuario, deberíamos recibir una lista con 5 juegos recomendados para dicho usuario."
   ]
  },
  {
   "cell_type": "code",
   "execution_count": 77,
   "metadata": {},
   "outputs": [],
   "source": [
    "# Preprocesamiento para el cálculo de similitud de usuarios y mapeo de item_id con item_name\n",
    "user_vectors = df_modelo.pivot(index='user_id', columns='item_id', values='rating').fillna(0)"
   ]
  },
  {
   "cell_type": "markdown",
   "metadata": {},
   "source": [
    "## Carga de las matrices para recomendar en la API"
   ]
  },
  {
   "cell_type": "markdown",
   "metadata": {},
   "source": [
    "Para poder utilizar las funciones **recomendacion_juego** y **recomendacion_usuario** es necesario consumir las matrices **item_vectors** y **user_vectors**. Por ello, se guardan, en este caso, en formato parquet los que permite una compresión y codificación eficiente."
   ]
  },
  {
   "cell_type": "code",
   "execution_count": 78,
   "metadata": {},
   "outputs": [
    {
     "name": "stdout",
     "output_type": "stream",
     "text": [
      "Se guardaron correctamente\n"
     ]
    }
   ],
   "source": [
    "item_vectors.to_parquet('../Datasets/item_vectors.parquet')\n",
    "unique_item_ids.to_parquet('../Datasets/unique_item_ids.parquet')\n",
    "user_vectors.to_parquet('../Datasets/user_vectors.parquet')\n",
    "\n",
    "print('Se guardaron correctamente')"
   ]
  }
 ],
 "metadata": {
  "kernelspec": {
   "display_name": "mlenv",
   "language": "python",
   "name": "python3"
  },
  "language_info": {
   "codemirror_mode": {
    "name": "ipython",
    "version": 3
   },
   "file_extension": ".py",
   "mimetype": "text/x-python",
   "name": "python",
   "nbconvert_exporter": "python",
   "pygments_lexer": "ipython3",
   "version": "3.11.5"
  },
  "orig_nbformat": 4
 },
 "nbformat": 4,
 "nbformat_minor": 2
}
