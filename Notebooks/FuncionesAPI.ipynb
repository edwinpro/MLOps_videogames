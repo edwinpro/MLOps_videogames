{
 "cells": [
  {
   "cell_type": "markdown",
   "metadata": {},
   "source": [
    "# Experimentación para desarrollar funciones API necesarias\n",
    "En esta Notebook se desarrollan y prueban las funciones que son solicitadas para la API. Al desplegarlas, podrían ajustarse por requisitos de FastAPI o Render."
   ]
  },
  {
   "cell_type": "markdown",
   "metadata": {},
   "source": [
    "## Importaciones"
   ]
  },
  {
   "cell_type": "code",
   "execution_count": 1,
   "metadata": {},
   "outputs": [],
   "source": [
    "import pandas as pd\n",
    "import json\n",
    "from sklearn.metrics.pairwise import cosine_similarity\n",
    "\n",
    "%load_ext autoreload\n",
    "%autoreload 2\n",
    "import warnings\n",
    "warnings.filterwarnings(\"ignore\")\n"
   ]
  },
  {
   "cell_type": "markdown",
   "metadata": {},
   "source": [
    "## Carga de los dataset necesarios"
   ]
  },
  {
   "cell_type": "code",
   "execution_count": null,
   "metadata": {},
   "outputs": [],
   "source": [
    "# Cargar el archivo Parquet en un DataFrame\n",
    "max_playtime_by_genre_year = pd.read_parquet('../Datasets/max_playtime_by_genre_year.parquet')\n",
    "max_playtime_per_genre = pd.read_parquet('../Datasets/max_playtime_per_genre.parquet')\n",
    "summary_playtime_per_year = pd.read_parquet('../Datasets/summary_playtime_per_year.parquet')\n",
    "top3_recomendados = pd.read_parquet('../Datasets/top3_recomendados.parquet')\n",
    "top3_no_recomendados = pd.read_parquet('../Datasets/top3_no_recomendados.parquet')\n",
    "conteo_sentimientos = pd.read_parquet('../Datasets/conteo_sentimientos.parquet')\n",
    "# Cargar datos para el sistema de recomendacion\n",
    "#df_modelo = pd.read_parquet('../Datasets/recomendacion.parquet')\n",
    "item_vectors  = pd.read_parquet('../Datasets/item_vectors.parquet')\n",
    "unique_item_ids  = pd.read_parquet('../Datasets/unique_item_ids.parquet')\n",
    "#user_vectors  = pd.read_parquet('../Datasets/user_vectors.parquet')"
   ]
  },
  {
   "cell_type": "markdown",
   "metadata": {},
   "source": [
    "## Función PlayTimeGenre(genero:str)\n",
    "La función PlayTimeGenre tiene por parametro 'genero', filtrará los datos por el género proporcionado y calculará el año con más horas jugadas para ese género.<br>\n",
    "Ejemplo de retorno: {\"Año de lanzamiento con más horas jugadas para Género X\" : 2013}\n"
   ]
  },
  {
   "cell_type": "code",
   "execution_count": 46,
   "metadata": {},
   "outputs": [],
   "source": [
    "def PlayTimeGenre(genero: str):\n",
    "    # La función PlayTimeGenre tiene por parametro 'genero', filtrará los datos por el género proporcionado\n",
    "    # y calculará el año con más horas jugadas para ese género..\n",
    "\n",
    "    # Convertir el género a minúsculas para hacer la comparación sin ser sensible a mayúsculas\n",
    "    genero = genero.lower()\n",
    "\n",
    "    # Verificar si el género está presente en el DataFrame\n",
    "    if genero not in max_playtime_by_genre_year['genres'].str.lower().unique():\n",
    "        return {\"Error\": f\"El género '{genero}' no se encuentra en el conjunto de datos.\"}\n",
    "\n",
    "    # Filtrar el DataFrame por el género proporcionado\n",
    "    genre_data = max_playtime_by_genre_year[max_playtime_by_genre_year['genres'].str.lower() == genero]\n",
    "\n",
    "    # Obtener el año con más horas jugadas para el género dado\n",
    "    max_playtime_year = genre_data['release_year'].values[0] if not genre_data.empty else None\n",
    "\n",
    "\n",
    "\n",
    "    # Crear el diccionario para el formato JSON\n",
    "    result = {f'Año de lanzamiento con más horas jugadas para {genero.capitalize()}': str(max_playtime_year)}\n",
    "\n",
    "    return result"
   ]
  },
  {
   "cell_type": "code",
   "execution_count": 47,
   "metadata": {},
   "outputs": [
    {
     "name": "stdout",
     "output_type": "stream",
     "text": [
      "{\"Año de lanzamiento con más horas jugadas para Rpg\": \"2011\"}\n"
     ]
    }
   ],
   "source": [
    "# Ejemplo de uso de la función con un género específico, por ejemplo, 'Shooter'\n",
    "genre_result = PlayTimeGenre('rpg')\n",
    "\n",
    "# Convertir el resultado a formato JSON\n",
    "json_result = json.dumps(genre_result, ensure_ascii=False)\n",
    "print(json_result)\n"
   ]
  },
  {
   "cell_type": "markdown",
   "metadata": {},
   "source": [
    "## Función UserForGenre(genero:str)\n",
    "Esta función tiene por parametro 'genero', debe devolver el usuario que acumula más horas jugadas para el género dado y una lista de la acumulación de horas jugadas por año.<br>\n",
    "Ejemplo de retorno: {\"Usuario con más horas jugadas para Género X\" : us213ndjss09sdf, \"Horas jugadas\":[{Año: 2013, Horas: 203}, {Año: 2012, Horas: 100}, {Año: 2011, Horas: 23}]}"
   ]
  },
  {
   "cell_type": "code",
   "execution_count": 48,
   "metadata": {},
   "outputs": [],
   "source": [
    "def UserForGenre(genre: str):\n",
    "    # Esta función tiene por parametro 'genero', debe devolver el usuario que acumula más horas jugadas \n",
    "    # para el género dado y una lista de la acumulación de horas jugadas por año.\n",
    "\n",
    "    genre = genre.lower()  # Convertir el género a minúsculas para ser insensible a mayúsculas/minúsculas\n",
    "\n",
    "    # Filtrar por el género deseado en el dataframe max_playtime_per_genre\n",
    "    genre_data = max_playtime_per_genre[max_playtime_per_genre['genres'].str.lower() == genre]\n",
    "\n",
    "    if len(genre_data) == 0:\n",
    "        return \"Género no encontrado\"\n",
    "\n",
    "    # Obtener el usuario con más horas jugadas para el género dado\n",
    "    max_playtime_user = genre_data.loc[genre_data['playtime_forever'].idxmax()]['user_id']\n",
    "\n",
    "    # Filtrar por el género deseado en el dataframe summary_playtime_per_year\n",
    "    genre_year_data = summary_playtime_per_year[summary_playtime_per_year['user_id'].isin(genre_data['user_id'])]\n",
    "\n",
    "    # Agrupar y sumar las horas jugadas por año, excluyendo los años con 0 horas jugadas\n",
    "    yearly_hours = genre_year_data.groupby('release_year')['playtime_total_hours'].sum().reset_index()\n",
    "    yearly_hours = yearly_hours[yearly_hours['playtime_total_hours'] > 1]\n",
    "\n",
    "    # Crear un diccionario con el formato solicitado\n",
    "    hours_by_year = [\n",
    "        {'Año': int(year), 'Horas': int(hours)}\n",
    "        for year, hours in zip(yearly_hours['release_year'], yearly_hours['playtime_total_hours'])\n",
    "    ]\n",
    "\n",
    "    # Formato de salida en JSON\n",
    "    output = {\n",
    "        f'Usuario con más horas jugadas para Género {genre.capitalize()}': max_playtime_user,\n",
    "        'Horas jugadas': hours_by_year\n",
    "    }\n",
    "\n",
    "    return output"
   ]
  },
  {
   "cell_type": "code",
   "execution_count": 49,
   "metadata": {},
   "outputs": [
    {
     "name": "stdout",
     "output_type": "stream",
     "text": [
      "{'Usuario con más horas jugadas para Género Action': 'Sp3ctre', 'Horas jugadas': [{'Año': 1995, 'Horas': 10}, {'Año': 1997, 'Horas': 4}, {'Año': 1999, 'Horas': 10}, {'Año': 2000, 'Horas': 1177}, {'Año': 2001, 'Horas': 4}, {'Año': 2002, 'Horas': 7}, {'Año': 2003, 'Horas': 129}, {'Año': 2004, 'Horas': 2134}, {'Año': 2005, 'Horas': 355}, {'Año': 2006, 'Horas': 3040}, {'Año': 2007, 'Horas': 1932}, {'Año': 2008, 'Horas': 149}, {'Año': 2009, 'Horas': 1902}, {'Año': 2010, 'Horas': 2153}, {'Año': 2011, 'Horas': 11560}, {'Año': 2012, 'Horas': 11190}, {'Año': 2013, 'Horas': 7924}, {'Año': 2014, 'Horas': 5404}, {'Año': 2015, 'Horas': 26683}, {'Año': 2016, 'Horas': 3073}, {'Año': 2017, 'Horas': 3605}]}\n"
     ]
    }
   ],
   "source": [
    "# Ejemplo de uso de la función\n",
    "genero_deseado = 'action'  # Reemplaza 'Género X' con el género específico que desees buscar\n",
    "resultado_json = UserForGenre(genero_deseado)\n",
    "print(resultado_json)  # Imprimir el resultado en formato JSON"
   ]
  },
  {
   "cell_type": "markdown",
   "metadata": {},
   "source": [
    "## Función UsersRecommend(anio:int)\n",
    "Esta función tiene por parametro 'anio', Devuelve el top 3 de juegos MÁS recomendados por usuarios para el año dado. (reviews.recommend = True y comentarios positivos/neutrales).<br>\n",
    "Ejemplo de retorno: [{\"Puesto 1\" : X}, {\"Puesto 2\" : Y},{\"Puesto 3\" : Z}]."
   ]
  },
  {
   "cell_type": "code",
   "execution_count": 50,
   "metadata": {},
   "outputs": [],
   "source": [
    "def UsersRecommend(anio):\n",
    "    # Verificar si el año proporcionado tiene datos en el DataFrame top3_recomendados\n",
    "    if anio not in top3_recomendados['year'].unique():\n",
    "        return f\"No hay datos disponibles para el año {anio}\"\n",
    "\n",
    "    # Filtrar el DataFrame top3_recomendados para el año proporcionado\n",
    "    top_games_year = top3_recomendados[top3_recomendados['year'] == anio]\n",
    "\n",
    "    # Verificar si hay menos de 3 juegos para el año consultado\n",
    "    if len(top_games_year) < 1:\n",
    "        return \"No hay suficientes juegos para mostrar el top 3\"\n",
    "\n",
    "    # Reiniciar el índice del DataFrame filtrado por año\n",
    "    top_games_year = top_games_year.reset_index(drop=True)\n",
    "\n",
    "    # Obtener el top 3 de juegos más recomendados para el año dado\n",
    "    top_3_games = top_games_year.head(3)\n",
    "\n",
    "    # Crear una lista con el formato especificado\n",
    "    top_3_list = []\n",
    "    for index, row in top_3_games.iterrows():\n",
    "        game_rank = index + 1  # Usar el índice + 1 como número de puesto\n",
    "        game_dict = {\"Puesto \" + str(game_rank): row['title']}\n",
    "        top_3_list.append(game_dict)\n",
    "\n",
    "    return top_3_list"
   ]
  },
  {
   "cell_type": "code",
   "execution_count": 51,
   "metadata": {},
   "outputs": [
    {
     "data": {
      "text/plain": [
       "[{'Puesto 1': 'Counter-Strike: Global Offensive'},\n",
       " {'Puesto 2': 'Unturned'},\n",
       " {'Puesto 3': 'Team Fortress 2'}]"
      ]
     },
     "execution_count": 51,
     "metadata": {},
     "output_type": "execute_result"
    }
   ],
   "source": [
    "# Ejemplo de uso: Obtener el top 3 de juegos recomendados para el año 2022\n",
    "anio_elegido = 2015\n",
    "resultados = UsersRecommend(anio_elegido)\n",
    "resultados"
   ]
  },
  {
   "cell_type": "markdown",
   "metadata": {},
   "source": [
    "## Función UsersNotRecommend(anio:int)\n",
    "Esta función tiene por parametro 'anio', Devuelve el top 3 de juegos MENOS recomendados por usuarios para el año dado. (reviews.recommend = False y comentarios negativos).<br>\n",
    "Ejemplo de retorno: [{\"Puesto 1\" : X}, {\"Puesto 2\" : Y},{\"Puesto 3\" : Z}]."
   ]
  },
  {
   "cell_type": "code",
   "execution_count": 52,
   "metadata": {},
   "outputs": [],
   "source": [
    "def UsersNotRecommend(anio):\n",
    "    # Verificar si el año proporcionado tiene datos en el DataFrame top3_no_recomendados\n",
    "    if anio not in top3_no_recomendados['year'].unique():\n",
    "        return f\"No hay datos disponibles para el año {anio}\"\n",
    "\n",
    "    # Filtrar el DataFrame top3_no_recomendados para el año proporcionado\n",
    "    top_games_year = top3_no_recomendados[top3_no_recomendados['year'] == anio]\n",
    "\n",
    "    # Verificar si hay menos de 3 juegos para el año consultado\n",
    "    if len(top_games_year) < 1:\n",
    "        return \"No hay suficientes juegos para mostrar el top 3 menos recomendados\"\n",
    "\n",
    "    # Reiniciar el índice del DataFrame filtrado por año\n",
    "    top_games_year = top_games_year.reset_index(drop=True)\n",
    "\n",
    "    # Obtener el top 3 de juegos más recomendados para el año dado\n",
    "    top_3_games = top_games_year.head(3)\n",
    "\n",
    "    # Crear una lista con el formato especificado\n",
    "    top_3_list = []\n",
    "    for index, row in top_3_games.iterrows():\n",
    "        game_rank = index + 1  # Usar el índice + 1 como número de puesto\n",
    "        game_dict = {\"Puesto \" + str(game_rank): row['title']}\n",
    "        top_3_list.append(game_dict)\n",
    "\n",
    "    return top_3_list"
   ]
  },
  {
   "cell_type": "code",
   "execution_count": 53,
   "metadata": {},
   "outputs": [
    {
     "data": {
      "text/plain": [
       "[{'Puesto 1': 'Act of Aggression - Reboot Edition'},\n",
       " {'Puesto 2': 'Age of Empires II HD'},\n",
       " {'Puesto 3': 'Alien Swarm'}]"
      ]
     },
     "execution_count": 53,
     "metadata": {},
     "output_type": "execute_result"
    }
   ],
   "source": [
    "# Ejemplo de uso: Obtener el top 3 de juegos recomendados para el año 2022\n",
    "anio_elegido = 2015\n",
    "resultados = UsersNotRecommend(anio_elegido)\n",
    "resultados"
   ]
  },
  {
   "cell_type": "markdown",
   "metadata": {},
   "source": [
    "## Función sentiment_analysis(anio:int)\n",
    "Esta función tiene por parametro 'anio', Según el año de lanzamiento, se devuelve una lista con la cantidad de registros de reseñas de usuarios que se encuentren categorizados con un análisis de sentimiento.<br>\n",
    "Ejemplo de retorno: {Negativo = 182, Neutral = 120, Positivo = 278}"
   ]
  },
  {
   "cell_type": "code",
   "execution_count": 54,
   "metadata": {},
   "outputs": [],
   "source": [
    "def sentiment_analysis(año):\n",
    "    # Filtrar el DataFrame por el año dado\n",
    "    df_filtrado = conteo_sentimientos[conteo_sentimientos['release_year'] == año]\n",
    "    \n",
    "    if df_filtrado.empty:\n",
    "        return f\"No hay datos disponibles para el año {año}\"\n",
    "    \n",
    "    # Obtener la suma de cada sentimiento para el año dado\n",
    "    sentimientos_totales = df_filtrado[['Negativo', 'Neutral', 'Positivo']].sum()\n",
    "    \n",
    "    # Convertir el resultado en un diccionario con valores enteros\n",
    "    resultado = sentimientos_totales.astype(int).to_dict()\n",
    "    \n",
    "    return resultado"
   ]
  },
  {
   "cell_type": "code",
   "execution_count": 55,
   "metadata": {},
   "outputs": [
    {
     "name": "stdout",
     "output_type": "stream",
     "text": [
      "{'Negativo': 1207, 'Neutral': 8432, 'Positivo': 3234}\n"
     ]
    }
   ],
   "source": [
    "\n",
    "# Ejemplo de uso:\n",
    "año = 2015  # Cambia este valor al año que desees analizar\n",
    "resultados = sentiment_analysis(año)\n",
    "print(resultados)\n"
   ]
  },
  {
   "cell_type": "markdown",
   "metadata": {},
   "source": [
    "## Función recomendacion_juego( id de producto )\n",
    "Ingresando el id de producto, deberíamos recibir una lista con 5 juegos recomendados similares al ingresado."
   ]
  },
  {
   "cell_type": "code",
   "execution_count": 4,
   "metadata": {},
   "outputs": [],
   "source": [
    "def recomendacion_juego(input_game):\n",
    "    if input_game not in unique_item_ids['item_id'].unique():\n",
    "        return f\"No hay datos disponibles para el Id: {input_game}\"\n",
    "\n",
    "    # Encontrar el vector de ítem correspondiente para el juego de entrada\n",
    "    input_game_vector = item_vectors.loc[input_game].values.reshape(1, -1)\n",
    "    \n",
    "    # Calcular la similitud del coseno entre el vector del juego de entrada y todos los demás vectores de ítems\n",
    "    similarities = cosine_similarity(input_game_vector, item_vectors.values)\n",
    "    \n",
    "    # Ordenar los puntajes de similitud del coseno en orden descendente\n",
    "    similar_games_indices = similarities.argsort()[0][::-1]\n",
    "    similar_games_indices = similar_games_indices[1:]  # Excluir el primer índice (el juego de entrada)\n",
    "    \n",
    "    # Seleccionar los mejores N juegos con los puntajes de similitud del coseno más altos como juegos recomendados\n",
    "    recommended_game_ids = item_vectors.index[similar_games_indices][:5]\n",
    "    \n",
    "    # Obtener los nombres de los juegos recomendados, considerando solo un registro por 'item_id'\n",
    "    recommended_games = unique_item_ids[unique_item_ids['item_id'].isin(recommended_game_ids)]['item_name'].tolist()\n",
    "    \n",
    "    return recommended_games\n"
   ]
  },
  {
   "cell_type": "code",
   "execution_count": 5,
   "metadata": {},
   "outputs": [
    {
     "name": "stdout",
     "output_type": "stream",
     "text": [
      "['PAYDAY 2', 'Watch_Dogs', 'Call of Duty: Black Ops III', 'Quake Live', 'Resident Evil™: Operation Raccoon City']\n"
     ]
    }
   ],
   "source": [
    "# Test1 recomendacion_juego \n",
    "input_game = 209650\n",
    "recommended_games = recomendacion_juego(input_game)\n",
    "print(recommended_games)\n"
   ]
  },
  {
   "cell_type": "code",
   "execution_count": 8,
   "metadata": {},
   "outputs": [
    {
     "name": "stdout",
     "output_type": "stream",
     "text": [
      "['The Elder Scrolls V: Skyrim', 'Loadout', 'Carpe Diem', 'Batman™: Arkham Knight', 'Rocksmith 2014']\n"
     ]
    }
   ],
   "source": [
    "# Test2 recomendacion_juego \n",
    "input_game = 303210\n",
    "recommended_games = recomendacion_juego(input_game)\n",
    "print(recommended_games)\n"
   ]
  },
  {
   "cell_type": "markdown",
   "metadata": {},
   "source": [
    "## Función recomendacion_usuario( id de usuario )"
   ]
  },
  {
   "cell_type": "markdown",
   "metadata": {},
   "source": [
    "Ingresando el id de un usuario, deberíamos recibir una lista con 5 juegos recomendados para dicho usuario."
   ]
  },
  {
   "cell_type": "code",
   "execution_count": 59,
   "metadata": {},
   "outputs": [],
   "source": [
    "def recomendacion_usuario(input_user):\n",
    "    input_user = str(input_user)\n",
    "\n",
    "    vector_usuario = user_vectors.loc[input_user].values.reshape(1, -1)\n",
    "    similarities = cosine_similarity(vector_usuario, user_vectors.values)\n",
    "\n",
    "    similar_users_indices = similarities.argsort()[0][::-1]\n",
    "    top_similar_users = user_vectors.index[similar_users_indices][:5]\n",
    "\n",
    "    recommended_games = []\n",
    "    for user in top_similar_users:\n",
    "        games = df_modelo.loc[df_modelo['user_id'] == user, 'item_id'].tolist()\n",
    "        recommended_games.extend(games)\n",
    "\n",
    "    recommended_games = list(set(recommended_games))\n",
    "    recommended_games.sort(key=lambda x: user_vectors.loc[top_similar_users, x].mean(), reverse=True)\n",
    "    recommended_games = recommended_games[:5]\n",
    "\n",
    "    #juegos_recomendados_nombres = [id_name_map[item_id] for item_id in recommended_games]\n",
    "    juegos_recomendados_nombres = unique_item_ids[unique_item_ids['item_id'].isin(recommended_games)]['item_name'].tolist()\n",
    "    \n",
    "    return juegos_recomendados_nombres"
   ]
  },
  {
   "cell_type": "code",
   "execution_count": 60,
   "metadata": {},
   "outputs": [
    {
     "name": "stdout",
     "output_type": "stream",
     "text": [
      "Las recomendaciones para el usuario Scalarius son: ['Fallout 4', 'Call of Duty: Modern Warfare 2', 'Goat Simulator', 'Portal 2', 'Reflex']\n"
     ]
    }
   ],
   "source": [
    "# Test1 a la función\n",
    "usuario = 'Scalarius'\n",
    "\n",
    "recomendaciones = recomendacion_usuario(usuario)\n",
    "print(f\"Las recomendaciones para el usuario {usuario} son: {recomendaciones}\")\n"
   ]
  },
  {
   "cell_type": "code",
   "execution_count": 61,
   "metadata": {},
   "outputs": [
    {
     "name": "stdout",
     "output_type": "stream",
     "text": [
      "Las recomendaciones para el usuario Coop2303 son: ['Left 4 Dead 2', 'Double Action: Boogaloo', 'Portal 2', 'Velvet Sundown', 'Distance']\n"
     ]
    }
   ],
   "source": [
    "# Test2 a la función\n",
    "usuario = 'Coop2303'\n",
    "\n",
    "recomendaciones = recomendacion_usuario(usuario)\n",
    "print(f\"Las recomendaciones para el usuario {usuario} son: {recomendaciones}\")\n"
   ]
  }
 ],
 "metadata": {
  "kernelspec": {
   "display_name": "SoyHenry",
   "language": "python",
   "name": "python3"
  },
  "language_info": {
   "codemirror_mode": {
    "name": "ipython",
    "version": 3
   },
   "file_extension": ".py",
   "mimetype": "text/x-python",
   "name": "python",
   "nbconvert_exporter": "python",
   "pygments_lexer": "ipython3",
   "version": "3.11.3"
  }
 },
 "nbformat": 4,
 "nbformat_minor": 2
}
