{
 "cells": [
  {
   "cell_type": "markdown",
   "metadata": {},
   "source": [
    "# Experimentación para desarrollar funciones API necesarias\n",
    "En esta Notebook se desarrollan y prueban las funciones que son solicitadas para la API. Al desplegarlas, podrían ajustarse por requisitos de FastAPI o Render."
   ]
  },
  {
   "cell_type": "markdown",
   "metadata": {},
   "source": [
    "## Importaciones"
   ]
  },
  {
   "cell_type": "code",
   "execution_count": 8,
   "metadata": {},
   "outputs": [
    {
     "name": "stdout",
     "output_type": "stream",
     "text": [
      "The autoreload extension is already loaded. To reload it, use:\n",
      "  %reload_ext autoreload\n"
     ]
    }
   ],
   "source": [
    "import pandas as pd\n",
    "import json\n",
    "%load_ext autoreload\n",
    "%autoreload 2\n",
    "import warnings\n",
    "warnings.filterwarnings(\"ignore\")\n"
   ]
  },
  {
   "cell_type": "markdown",
   "metadata": {},
   "source": [
    "## Carga de los dataset necesarios"
   ]
  },
  {
   "cell_type": "code",
   "execution_count": 9,
   "metadata": {},
   "outputs": [],
   "source": [
    "# Cargar el archivo Parquet en un DataFrame\n",
    "max_playtime_by_genre_year = pd.read_parquet('../Datasets/max_playtime_by_genre_year.parquet')\n",
    "max_playtime_per_genre = pd.read_parquet('../Datasets/max_playtime_per_genre.parquet')\n",
    "summary_playtime_per_year = pd.read_parquet('../Datasets/summary_playtime_per_year.parquet')\n"
   ]
  },
  {
   "cell_type": "markdown",
   "metadata": {},
   "source": [
    "## Función PlayTimeGenre(genero:str)\n",
    "La función PlayTimeGenre tiene por parametro 'genero', filtrará los datos por el género proporcionado y calculará el año con más horas jugadas para ese género.<br>\n",
    "Ejemplo de retorno: {\"Año de lanzamiento con más horas jugadas para Género X\" : 2013}\n"
   ]
  },
  {
   "cell_type": "code",
   "execution_count": 10,
   "metadata": {},
   "outputs": [],
   "source": [
    "def PlayTimeGenre(genero: str):\n",
    "    # La función PlayTimeGenre tiene por parametro 'genero', filtrará los datos por el género proporcionado\n",
    "    # y calculará el año con más horas jugadas para ese género..\n",
    "\n",
    "    # Convertir el género a minúsculas para hacer la comparación sin ser sensible a mayúsculas\n",
    "    genero = genero.lower()\n",
    "\n",
    "    # Verificar si el género está presente en el DataFrame\n",
    "    if genero not in max_playtime_by_genre_year['genres'].str.lower().unique():\n",
    "        return {\"Error\": f\"El género '{genero}' no se encuentra en el conjunto de datos.\"}\n",
    "\n",
    "    # Filtrar el DataFrame por el género proporcionado\n",
    "    genre_data = max_playtime_by_genre_year[max_playtime_by_genre_year['genres'].str.lower() == genero]\n",
    "\n",
    "    # Obtener el año con más horas jugadas para el género dado\n",
    "    max_playtime_year = genre_data['release_year'].values[0] if not genre_data.empty else None\n",
    "\n",
    "\n",
    "\n",
    "    # Crear el diccionario para el formato JSON\n",
    "    result = {f'Año de lanzamiento con más horas jugadas para {genero.capitalize()}': str(max_playtime_year)}\n",
    "\n",
    "    return result"
   ]
  },
  {
   "cell_type": "code",
   "execution_count": 12,
   "metadata": {},
   "outputs": [
    {
     "name": "stdout",
     "output_type": "stream",
     "text": [
      "{\"Año de lanzamiento con más horas jugadas para Rpg\": \"2011\"}\n"
     ]
    }
   ],
   "source": [
    "# Ejemplo de uso de la función con un género específico, por ejemplo, 'Shooter'\n",
    "genre_result = PlayTimeGenre('rpg')\n",
    "\n",
    "# Convertir el resultado a formato JSON\n",
    "json_result = json.dumps(genre_result, ensure_ascii=False)\n",
    "print(json_result)\n"
   ]
  },
  {
   "cell_type": "markdown",
   "metadata": {},
   "source": [
    "## Función UserForGenre(genero:str)\n",
    "Esta función tiene por parametro 'genero', debe devolver el usuario que acumula más horas jugadas para el género dado y una lista de la acumulación de horas jugadas por año.<br>\n",
    "Ejemplo de retorno: {\"Usuario con más horas jugadas para Género X\" : us213ndjss09sdf, \"Horas jugadas\":[{Año: 2013, Horas: 203}, {Año: 2012, Horas: 100}, {Año: 2011, Horas: 23}]}"
   ]
  },
  {
   "cell_type": "code",
   "execution_count": 16,
   "metadata": {},
   "outputs": [],
   "source": [
    "def UserForGenre(genre: str):\n",
    "    # Esta función tiene por parametro 'genero', debe devolver el usuario que acumula más horas jugadas \n",
    "    # para el género dado y una lista de la acumulación de horas jugadas por año.\n",
    "\n",
    "    genre = genre.lower()  # Convertir el género a minúsculas para ser insensible a mayúsculas/minúsculas\n",
    "\n",
    "    # Filtrar por el género deseado en el dataframe max_playtime_per_genre\n",
    "    genre_data = max_playtime_per_genre[max_playtime_per_genre['genres'].str.lower() == genre]\n",
    "\n",
    "    if len(genre_data) == 0:\n",
    "        return \"Género no encontrado\"\n",
    "\n",
    "    # Obtener el usuario con más horas jugadas para el género dado\n",
    "    max_playtime_user = genre_data.loc[genre_data['playtime_forever'].idxmax()]['user_id']\n",
    "\n",
    "    # Filtrar por el género deseado en el dataframe summary_playtime_per_year\n",
    "    genre_year_data = summary_playtime_per_year[summary_playtime_per_year['user_id'].isin(genre_data['user_id'])]\n",
    "\n",
    "    # Agrupar y sumar las horas jugadas por año, excluyendo los años con 0 horas jugadas\n",
    "    yearly_hours = genre_year_data.groupby('release_year')['playtime_total_hours'].sum().reset_index()\n",
    "    yearly_hours = yearly_hours[yearly_hours['playtime_total_hours'] > 1]\n",
    "\n",
    "    # Crear un diccionario con el formato solicitado\n",
    "    hours_by_year = [\n",
    "        {'Año': int(year), 'Horas': int(hours)}\n",
    "        for year, hours in zip(yearly_hours['release_year'], yearly_hours['playtime_total_hours'])\n",
    "    ]\n",
    "\n",
    "    # Formato de salida en JSON\n",
    "    output = {\n",
    "        f'Usuario con más horas jugadas para Género {genre.capitalize()}': max_playtime_user,\n",
    "        'Horas jugadas': hours_by_year\n",
    "    }\n",
    "\n",
    "    return json.dumps(output, ensure_ascii=False, indent=4)"
   ]
  },
  {
   "cell_type": "code",
   "execution_count": 17,
   "metadata": {},
   "outputs": [
    {
     "name": "stdout",
     "output_type": "stream",
     "text": [
      "{\n",
      "    \"Usuario con más horas jugadas para Género Action\": \"Sp3ctre\",\n",
      "    \"Horas jugadas\": [\n",
      "        {\n",
      "            \"Año\": 1995,\n",
      "            \"Horas\": 10\n",
      "        },\n",
      "        {\n",
      "            \"Año\": 1997,\n",
      "            \"Horas\": 4\n",
      "        },\n",
      "        {\n",
      "            \"Año\": 1999,\n",
      "            \"Horas\": 10\n",
      "        },\n",
      "        {\n",
      "            \"Año\": 2000,\n",
      "            \"Horas\": 1177\n",
      "        },\n",
      "        {\n",
      "            \"Año\": 2001,\n",
      "            \"Horas\": 4\n",
      "        },\n",
      "        {\n",
      "            \"Año\": 2002,\n",
      "            \"Horas\": 7\n",
      "        },\n",
      "        {\n",
      "            \"Año\": 2003,\n",
      "            \"Horas\": 129\n",
      "        },\n",
      "        {\n",
      "            \"Año\": 2004,\n",
      "            \"Horas\": 2134\n",
      "        },\n",
      "        {\n",
      "            \"Año\": 2005,\n",
      "            \"Horas\": 355\n",
      "        },\n",
      "        {\n",
      "            \"Año\": 2006,\n",
      "            \"Horas\": 3040\n",
      "        },\n",
      "        {\n",
      "            \"Año\": 2007,\n",
      "            \"Horas\": 1932\n",
      "        },\n",
      "        {\n",
      "            \"Año\": 2008,\n",
      "            \"Horas\": 149\n",
      "        },\n",
      "        {\n",
      "            \"Año\": 2009,\n",
      "            \"Horas\": 1902\n",
      "        },\n",
      "        {\n",
      "            \"Año\": 2010,\n",
      "            \"Horas\": 2153\n",
      "        },\n",
      "        {\n",
      "            \"Año\": 2011,\n",
      "            \"Horas\": 11560\n",
      "        },\n",
      "        {\n",
      "            \"Año\": 2012,\n",
      "            \"Horas\": 11190\n",
      "        },\n",
      "        {\n",
      "            \"Año\": 2013,\n",
      "            \"Horas\": 7924\n",
      "        },\n",
      "        {\n",
      "            \"Año\": 2014,\n",
      "            \"Horas\": 5404\n",
      "        },\n",
      "        {\n",
      "            \"Año\": 2015,\n",
      "            \"Horas\": 26683\n",
      "        },\n",
      "        {\n",
      "            \"Año\": 2016,\n",
      "            \"Horas\": 3073\n",
      "        },\n",
      "        {\n",
      "            \"Año\": 2017,\n",
      "            \"Horas\": 3605\n",
      "        }\n",
      "    ]\n",
      "}\n"
     ]
    }
   ],
   "source": [
    "# Ejemplo de uso de la función\n",
    "genero_deseado = 'action'  # Reemplaza 'Género X' con el género específico que desees buscar\n",
    "resultado_json = UserForGenre(genero_deseado)\n",
    "print(resultado_json)  # Imprimir el resultado en formato JSON"
   ]
  }
 ],
 "metadata": {
  "kernelspec": {
   "display_name": "SoyHenry",
   "language": "python",
   "name": "python3"
  },
  "language_info": {
   "codemirror_mode": {
    "name": "ipython",
    "version": 3
   },
   "file_extension": ".py",
   "mimetype": "text/x-python",
   "name": "python",
   "nbconvert_exporter": "python",
   "pygments_lexer": "ipython3",
   "version": "3.11.5"
  }
 },
 "nbformat": 4,
 "nbformat_minor": 2
}
