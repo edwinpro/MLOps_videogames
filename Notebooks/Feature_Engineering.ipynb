{
 "cells": [
  {
   "cell_type": "markdown",
   "metadata": {},
   "source": [
    "# Feature Engineering\n",
    "Para consultar nuestra API, requerimos una nueva columna que indique los sentimientos de las reseñas de usuarios. Usaremos una reconocida librería de procesamiento de lenguaje natural para facilitar este proceso."
   ]
  },
  {
   "cell_type": "markdown",
   "metadata": {},
   "source": [
    "## Importaciones"
   ]
  },
  {
   "cell_type": "code",
   "execution_count": 106,
   "metadata": {},
   "outputs": [],
   "source": [
    "import pandas as pd\n",
    "import json\n",
    "from textblob import TextBlob"
   ]
  },
  {
   "cell_type": "markdown",
   "metadata": {},
   "source": [
    "## Preparación de conjuntos de datos"
   ]
  },
  {
   "cell_type": "code",
   "execution_count": 107,
   "metadata": {},
   "outputs": [],
   "source": [
    "# Extraer datos desde los archivos 'parquet' con información que se preparo en la etapa de ETL\n",
    "df_games = pd.read_parquet('../Datasets/steam_games.parquet')\n",
    "df_items = pd.read_parquet('../Datasets/user_items.parquet')\n",
    "df_reviews = pd.read_parquet('../Datasets/user_reviews.parquet')"
   ]
  },
  {
   "cell_type": "code",
   "execution_count": 108,
   "metadata": {},
   "outputs": [
    {
     "data": {
      "text/plain": [
       "Index(['publisher', 'genres', 'app_name', 'title', 'url', 'tags',\n",
       "       'reviews_url', 'specs', 'price', 'early_access', 'item_id', 'developer',\n",
       "       'release_year'],\n",
       "      dtype='object')"
      ]
     },
     "execution_count": 108,
     "metadata": {},
     "output_type": "execute_result"
    }
   ],
   "source": [
    "df_games.columns"
   ]
  },
  {
   "cell_type": "code",
   "execution_count": 109,
   "metadata": {},
   "outputs": [
    {
     "data": {
      "text/plain": [
       "Index(['item_id', 'item_name', 'playtime_forever', 'playtime_2weeks',\n",
       "       'steam_id', 'items_count', 'user_id', 'user_url'],\n",
       "      dtype='object')"
      ]
     },
     "execution_count": 109,
     "metadata": {},
     "output_type": "execute_result"
    }
   ],
   "source": [
    "df_items.columns"
   ]
  },
  {
   "cell_type": "code",
   "execution_count": 110,
   "metadata": {},
   "outputs": [
    {
     "data": {
      "text/plain": [
       "Index(['user_id', 'user_url', 'posted', 'item_id', 'helpful', 'recommend',\n",
       "       'review'],\n",
       "      dtype='object')"
      ]
     },
     "execution_count": 110,
     "metadata": {},
     "output_type": "execute_result"
    }
   ],
   "source": [
    "df_reviews.columns"
   ]
  },
  {
   "cell_type": "markdown",
   "metadata": {},
   "source": [
    "## Análisis de sentimientos\n",
    "Se pide crear una nueva columna llamada 'sentiment_analysis' que reemplace a 'review' donde se realice un análisis de sentimiento de los comentarios con la siguiente escala:\n",
    "\n",
    "0 si es malo,<br>\n",
    "1 si es neutral o esta sin review<br>\n",
    "2 si es positivo."
   ]
  },
  {
   "cell_type": "code",
   "execution_count": 111,
   "metadata": {},
   "outputs": [],
   "source": [
    "from textblob import TextBlob\n",
    "\n",
    "# Función para clasificar el sentimiento según la escala dada\n",
    "def classify_sentiment(polarity):\n",
    "    if polarity < -0.2:\n",
    "        return 0\n",
    "    elif polarity > 0.2:\n",
    "        return 2\n",
    "    else:\n",
    "        return 1\n",
    "\n",
    "# Aplicar el análisis de sentimiento y crear la nueva columna 'sentiment_analysis'\n",
    "df_reviews['sentiment_analysis'] = df_reviews['review'].apply(lambda x: classify_sentiment(TextBlob(x).sentiment.polarity))"
   ]
  },
  {
   "cell_type": "markdown",
   "metadata": {},
   "source": [
    "Finalmente, se elimina la columna de 'review'."
   ]
  },
  {
   "cell_type": "code",
   "execution_count": 112,
   "metadata": {},
   "outputs": [
    {
     "data": {
      "text/plain": [
       "Index(['user_id', 'user_url', 'posted', 'item_id', 'helpful', 'recommend',\n",
       "       'sentiment_analysis'],\n",
       "      dtype='object')"
      ]
     },
     "execution_count": 112,
     "metadata": {},
     "output_type": "execute_result"
    }
   ],
   "source": [
    "df_reviews = df_reviews.drop(columns=['review'])\n",
    "df_reviews.columns"
   ]
  },
  {
   "cell_type": "code",
   "execution_count": 97,
   "metadata": {},
   "outputs": [
    {
     "data": {
      "text/plain": [
       "user_id               0\n",
       "posted                0\n",
       "item_id               0\n",
       "recommend             0\n",
       "sentiment_analysis    0\n",
       "dtype: int64"
      ]
     },
     "execution_count": 97,
     "metadata": {},
     "output_type": "execute_result"
    }
   ],
   "source": [
    "#Verificamos si hay nulos\n",
    "df_reviews.isnull().sum().sort_values(ascending=False)"
   ]
  },
  {
   "cell_type": "markdown",
   "metadata": {},
   "source": [
    "## Género y el año con más horas jugadas"
   ]
  },
  {
   "cell_type": "markdown",
   "metadata": {},
   "source": [
    "Se crea el dataframe 'max_playtime_by_genre_year' con la información del año con más horas jugadas por género."
   ]
  },
  {
   "cell_type": "code",
   "execution_count": 98,
   "metadata": {},
   "outputs": [
    {
     "data": {
      "text/html": [
       "<div>\n",
       "<style scoped>\n",
       "    .dataframe tbody tr th:only-of-type {\n",
       "        vertical-align: middle;\n",
       "    }\n",
       "\n",
       "    .dataframe tbody tr th {\n",
       "        vertical-align: top;\n",
       "    }\n",
       "\n",
       "    .dataframe thead th {\n",
       "        text-align: right;\n",
       "    }\n",
       "</style>\n",
       "<table border=\"1\" class=\"dataframe\">\n",
       "  <thead>\n",
       "    <tr style=\"text-align: right;\">\n",
       "      <th></th>\n",
       "      <th>genres</th>\n",
       "      <th>release_year</th>\n",
       "      <th>playtime_forever</th>\n",
       "    </tr>\n",
       "  </thead>\n",
       "  <tbody>\n",
       "    <tr>\n",
       "      <th>26</th>\n",
       "      <td>Action</td>\n",
       "      <td>2012</td>\n",
       "      <td>1085635110</td>\n",
       "    </tr>\n",
       "    <tr>\n",
       "      <th>59</th>\n",
       "      <td>Adventure</td>\n",
       "      <td>2011</td>\n",
       "      <td>221707756</td>\n",
       "    </tr>\n",
       "    <tr>\n",
       "      <th>71</th>\n",
       "      <td>Animation &amp; Modeling</td>\n",
       "      <td>2015</td>\n",
       "      <td>1345545</td>\n",
       "    </tr>\n",
       "    <tr>\n",
       "      <th>75</th>\n",
       "      <td>Audio Production</td>\n",
       "      <td>2014</td>\n",
       "      <td>455463</td>\n",
       "    </tr>\n",
       "    <tr>\n",
       "      <th>104</th>\n",
       "      <td>Casual</td>\n",
       "      <td>2015</td>\n",
       "      <td>81708365</td>\n",
       "    </tr>\n",
       "    <tr>\n",
       "      <th>109</th>\n",
       "      <td>Design &amp; Illustration</td>\n",
       "      <td>2012</td>\n",
       "      <td>1930339</td>\n",
       "    </tr>\n",
       "    <tr>\n",
       "      <th>116</th>\n",
       "      <td>Early Access</td>\n",
       "      <td>2013</td>\n",
       "      <td>118902893</td>\n",
       "    </tr>\n",
       "    <tr>\n",
       "      <th>124</th>\n",
       "      <td>Education</td>\n",
       "      <td>2013</td>\n",
       "      <td>340567</td>\n",
       "    </tr>\n",
       "    <tr>\n",
       "      <th>141</th>\n",
       "      <td>Free to Play</td>\n",
       "      <td>2013</td>\n",
       "      <td>146213734</td>\n",
       "    </tr>\n",
       "    <tr>\n",
       "      <th>158</th>\n",
       "      <td>Indie</td>\n",
       "      <td>2006</td>\n",
       "      <td>446115272</td>\n",
       "    </tr>\n",
       "    <tr>\n",
       "      <th>178</th>\n",
       "      <td>Massively Multiplayer</td>\n",
       "      <td>2013</td>\n",
       "      <td>133376503</td>\n",
       "    </tr>\n",
       "    <tr>\n",
       "      <th>186</th>\n",
       "      <td>Photo Editing</td>\n",
       "      <td>2014</td>\n",
       "      <td>61659</td>\n",
       "    </tr>\n",
       "    <tr>\n",
       "      <th>208</th>\n",
       "      <td>RPG</td>\n",
       "      <td>2011</td>\n",
       "      <td>227959458</td>\n",
       "    </tr>\n",
       "    <tr>\n",
       "      <th>235</th>\n",
       "      <td>Racing</td>\n",
       "      <td>2015</td>\n",
       "      <td>37474907</td>\n",
       "    </tr>\n",
       "    <tr>\n",
       "      <th>257</th>\n",
       "      <td>Simulation</td>\n",
       "      <td>2006</td>\n",
       "      <td>444536391</td>\n",
       "    </tr>\n",
       "    <tr>\n",
       "      <th>273</th>\n",
       "      <td>Software Training</td>\n",
       "      <td>2014</td>\n",
       "      <td>412697</td>\n",
       "    </tr>\n",
       "    <tr>\n",
       "      <th>288</th>\n",
       "      <td>Sports</td>\n",
       "      <td>2015</td>\n",
       "      <td>41305040</td>\n",
       "    </tr>\n",
       "    <tr>\n",
       "      <th>314</th>\n",
       "      <td>Strategy</td>\n",
       "      <td>2013</td>\n",
       "      <td>145266750</td>\n",
       "    </tr>\n",
       "    <tr>\n",
       "      <th>324</th>\n",
       "      <td>Utilities</td>\n",
       "      <td>2014</td>\n",
       "      <td>2711695</td>\n",
       "    </tr>\n",
       "    <tr>\n",
       "      <th>333</th>\n",
       "      <td>Video Production</td>\n",
       "      <td>2015</td>\n",
       "      <td>1662650</td>\n",
       "    </tr>\n",
       "    <tr>\n",
       "      <th>337</th>\n",
       "      <td>Web Publishing</td>\n",
       "      <td>2012</td>\n",
       "      <td>1930339</td>\n",
       "    </tr>\n",
       "  </tbody>\n",
       "</table>\n",
       "</div>"
      ],
      "text/plain": [
       "                    genres  release_year  playtime_forever\n",
       "26                  Action          2012        1085635110\n",
       "59               Adventure          2011         221707756\n",
       "71    Animation & Modeling          2015           1345545\n",
       "75        Audio Production          2014            455463\n",
       "104                 Casual          2015          81708365\n",
       "109  Design & Illustration          2012           1930339\n",
       "116           Early Access          2013         118902893\n",
       "124              Education          2013            340567\n",
       "141           Free to Play          2013         146213734\n",
       "158                  Indie          2006         446115272\n",
       "178  Massively Multiplayer          2013         133376503\n",
       "186          Photo Editing          2014             61659\n",
       "208                    RPG          2011         227959458\n",
       "235                 Racing          2015          37474907\n",
       "257             Simulation          2006         444536391\n",
       "273      Software Training          2014            412697\n",
       "288                 Sports          2015          41305040\n",
       "314               Strategy          2013         145266750\n",
       "324              Utilities          2014           2711695\n",
       "333       Video Production          2015           1662650\n",
       "337         Web Publishing          2012           1930339"
      ]
     },
     "execution_count": 98,
     "metadata": {},
     "output_type": "execute_result"
    }
   ],
   "source": [
    "# Crear un dataframe combinando la información necesaria\n",
    "combined_df = pd.merge(df_items, df_games[['item_id', 'release_year', 'genres']], on='item_id', how='left')\n",
    "\n",
    "# Agrupar por género, año y sumar las horas jugadas\n",
    "grouped = combined_df.groupby(['genres', 'release_year'])['playtime_forever'].sum().reset_index()\n",
    "\n",
    "# Encontrar el año con más horas jugadas por género\n",
    "max_playtime_by_genre_year = grouped.loc[grouped.groupby('genres')['playtime_forever'].idxmax()]\n",
    "\n",
    "# Convertir la columna 'release_year' de flotante a entero\n",
    "max_playtime_by_genre_year['release_year'] = max_playtime_by_genre_year['release_year'].astype(int)\n",
    "\n",
    "# Mostrar el resultado\n",
    "max_playtime_by_genre_year\n",
    "\n"
   ]
  },
  {
   "cell_type": "markdown",
   "metadata": {},
   "source": [
    "Dataframe con el usuario que acumula más horas jugadas por género"
   ]
  },
  {
   "cell_type": "code",
   "execution_count": 99,
   "metadata": {},
   "outputs": [
    {
     "name": "stdout",
     "output_type": "stream",
     "text": [
      "Dataframe con el usuario que acumula más horas jugadas por género:\n",
      "                  user_id                 genres  playtime_forever\n",
      "485519            Sp3ctre                 Action           1692650\n",
      "472192       REBAS_AS_F-T              Adventure           2182066\n",
      "479391         ScottyG555   Animation & Modeling            168314\n",
      "447836        Lickidactyl       Audio Production            109916\n",
      "472195       REBAS_AS_F-T                 Casual           1224933\n",
      "479393         ScottyG555  Design & Illustration            168314\n",
      "18051   76561197978756659           Early Access            316969\n",
      "160609  76561198059330972              Education             65427\n",
      "570659         idonothack           Free to Play            808241\n",
      "472200       REBAS_AS_F-T                  Indie           2401378\n",
      "417826        Evilutional  Massively Multiplayer            688260\n",
      "483274           Sky_Wolf          Photo Editing             21885\n",
      "634706        shinomegami                    RPG           1023495\n",
      "412843    DownSyndromeKid                 Racing            743445\n",
      "577998           jimmynoe             Simulation           1062130\n",
      "447845        Lickidactyl      Software Training            109916\n",
      "26187   76561197995725436                 Sports            193206\n",
      "634711        shinomegami               Strategy           1104450\n",
      "248243  76561198073642113              Utilities            207651\n",
      "479403         ScottyG555       Video Production            168314\n",
      "506902            Xyphien         Web Publishing            142964\n"
     ]
    }
   ],
   "source": [
    "# Combinar los dataframes df_games y df_items en función de 'item_id'\n",
    "merged_df = pd.merge(df_games, df_items, on='item_id')\n",
    "\n",
    "# Convertir las horas jugadas a horas en lugar de minutos\n",
    "#merged_df['playtime_hours'] = merged_df['playtime_forever'] / 60\n",
    "\n",
    "# Calcular la suma total de horas jugadas por usuario y género\n",
    "user_genre_playtime = merged_df.groupby(['user_id', 'genres'])['playtime_forever'].sum().reset_index()\n",
    "\n",
    "# Encontrar el usuario que acumula más horas jugadas por género\n",
    "max_playtime_per_genre = user_genre_playtime.loc[user_genre_playtime.groupby('genres')['playtime_forever'].idxmax()]\n",
    "\n",
    "\n",
    "# Imprimir o trabajar con los resultados\n",
    "print(\"Dataframe con el usuario que acumula más horas jugadas por género:\")\n",
    "print(max_playtime_per_genre)"
   ]
  },
  {
   "cell_type": "code",
   "execution_count": 100,
   "metadata": {},
   "outputs": [
    {
     "data": {
      "text/plain": [
       "Index(['user_id', 'genres', 'playtime_forever'], dtype='object')"
      ]
     },
     "execution_count": 100,
     "metadata": {},
     "output_type": "execute_result"
    }
   ],
   "source": [
    "max_playtime_per_genre.columns"
   ]
  },
  {
   "cell_type": "markdown",
   "metadata": {},
   "source": [
    "Dataframe con la acumulación de horas jugadas por año de los usuarios del dataframe 'max_playtime_per_genre'"
   ]
  },
  {
   "cell_type": "code",
   "execution_count": 101,
   "metadata": {},
   "outputs": [
    {
     "name": "stdout",
     "output_type": "stream",
     "text": [
      "               user_id  release_year  playtime_total_hours\n",
      "0    76561197978756659        1998.0              0.000000\n",
      "1    76561197978756659        1999.0              0.133333\n",
      "2    76561197978756659        2000.0              0.000000\n",
      "3    76561197978756659        2001.0              0.000000\n",
      "4    76561197978756659        2003.0              0.000000\n",
      "..                 ...           ...                   ...\n",
      "292        shinomegami        2013.0          18116.283333\n",
      "293        shinomegami        2014.0          18525.700000\n",
      "294        shinomegami        2015.0          18367.966667\n",
      "295        shinomegami        2016.0           2246.016667\n",
      "296        shinomegami        2017.0              6.750000\n",
      "\n",
      "[297 rows x 3 columns]\n"
     ]
    }
   ],
   "source": [
    "# Obtener los usuarios contenidos en el dataframe 'max_playtime_per_genre'\n",
    "users_of_interest = max_playtime_per_genre['user_id'].unique()\n",
    "\n",
    "# Filtrar el dataframe original de items para incluir solo a estos usuarios\n",
    "filtered_items_df = df_items[df_items['user_id'].isin(users_of_interest)]\n",
    "\n",
    "# Combinar los dataframes df_games y el filtrado de items en función de 'item_id'\n",
    "filtered_merged_df = pd.merge(df_games, filtered_items_df, on='item_id')\n",
    "\n",
    "# Calcular la suma total de horas jugadas por año\n",
    "playtime_per_year = filtered_merged_df.groupby(['user_id', 'release_year'])['playtime_forever'].sum().reset_index()\n",
    "playtime_per_year.rename(columns={'playtime_forever': 'playtime_total_minutes'}, inplace=True)\n",
    "\n",
    "# Convertir las horas jugadas a horas en lugar de minutos\n",
    "playtime_per_year['playtime_total_hours'] = playtime_per_year['playtime_total_minutes'] / 60\n",
    "\n",
    "# Resumen de horas jugadas por año de los usuarios seleccionados por género\n",
    "summary_playtime_per_year = playtime_per_year.groupby(['user_id', 'release_year'])['playtime_total_hours'].sum().reset_index()\n",
    "\n",
    "print(summary_playtime_per_year)"
   ]
  },
  {
   "cell_type": "markdown",
   "metadata": {},
   "source": [
    "## Dataframe con los top 3 juegos mas recomendado por año"
   ]
  },
  {
   "cell_type": "code",
   "execution_count": 102,
   "metadata": {},
   "outputs": [
    {
     "data": {
      "text/html": [
       "<div>\n",
       "<style scoped>\n",
       "    .dataframe tbody tr th:only-of-type {\n",
       "        vertical-align: middle;\n",
       "    }\n",
       "\n",
       "    .dataframe tbody tr th {\n",
       "        vertical-align: top;\n",
       "    }\n",
       "\n",
       "    .dataframe thead th {\n",
       "        text-align: right;\n",
       "    }\n",
       "</style>\n",
       "<table border=\"1\" class=\"dataframe\">\n",
       "  <thead>\n",
       "    <tr style=\"text-align: right;\">\n",
       "      <th></th>\n",
       "      <th>year</th>\n",
       "      <th>title</th>\n",
       "      <th>recomendaciones</th>\n",
       "    </tr>\n",
       "  </thead>\n",
       "  <tbody>\n",
       "    <tr>\n",
       "      <th>27</th>\n",
       "      <td>2010</td>\n",
       "      <td>Team Fortress 2</td>\n",
       "      <td>20</td>\n",
       "    </tr>\n",
       "    <tr>\n",
       "      <th>10</th>\n",
       "      <td>2010</td>\n",
       "      <td>Garry's Mod</td>\n",
       "      <td>6</td>\n",
       "    </tr>\n",
       "    <tr>\n",
       "      <th>11</th>\n",
       "      <td>2010</td>\n",
       "      <td>Killing Floor</td>\n",
       "      <td>6</td>\n",
       "    </tr>\n",
       "    <tr>\n",
       "      <th>164</th>\n",
       "      <td>2011</td>\n",
       "      <td>Team Fortress 2</td>\n",
       "      <td>140</td>\n",
       "    </tr>\n",
       "    <tr>\n",
       "      <th>165</th>\n",
       "      <td>2011</td>\n",
       "      <td>Terraria</td>\n",
       "      <td>76</td>\n",
       "    </tr>\n",
       "    <tr>\n",
       "      <th>134</th>\n",
       "      <td>2011</td>\n",
       "      <td>Portal 2</td>\n",
       "      <td>50</td>\n",
       "    </tr>\n",
       "    <tr>\n",
       "      <th>364</th>\n",
       "      <td>2012</td>\n",
       "      <td>Team Fortress 2</td>\n",
       "      <td>480</td>\n",
       "    </tr>\n",
       "    <tr>\n",
       "      <th>366</th>\n",
       "      <td>2012</td>\n",
       "      <td>Terraria</td>\n",
       "      <td>148</td>\n",
       "    </tr>\n",
       "    <tr>\n",
       "      <th>324</th>\n",
       "      <td>2012</td>\n",
       "      <td>Realm of the Mad God</td>\n",
       "      <td>75</td>\n",
       "    </tr>\n",
       "    <tr>\n",
       "      <th>869</th>\n",
       "      <td>2013</td>\n",
       "      <td>Team Fortress 2</td>\n",
       "      <td>1472</td>\n",
       "    </tr>\n",
       "    <tr>\n",
       "      <th>605</th>\n",
       "      <td>2013</td>\n",
       "      <td>Garry's Mod</td>\n",
       "      <td>614</td>\n",
       "    </tr>\n",
       "    <tr>\n",
       "      <th>870</th>\n",
       "      <td>2013</td>\n",
       "      <td>Terraria</td>\n",
       "      <td>540</td>\n",
       "    </tr>\n",
       "    <tr>\n",
       "      <th>1944</th>\n",
       "      <td>2014</td>\n",
       "      <td>Team Fortress 2</td>\n",
       "      <td>2860</td>\n",
       "    </tr>\n",
       "    <tr>\n",
       "      <th>2078</th>\n",
       "      <td>2014</td>\n",
       "      <td>Unturned</td>\n",
       "      <td>2525</td>\n",
       "    </tr>\n",
       "    <tr>\n",
       "      <th>1783</th>\n",
       "      <td>2014</td>\n",
       "      <td>Rust</td>\n",
       "      <td>2154</td>\n",
       "    </tr>\n",
       "    <tr>\n",
       "      <th>2434</th>\n",
       "      <td>2015</td>\n",
       "      <td>Counter-Strike: Global Offensive</td>\n",
       "      <td>1369</td>\n",
       "    </tr>\n",
       "    <tr>\n",
       "      <th>3599</th>\n",
       "      <td>2015</td>\n",
       "      <td>Unturned</td>\n",
       "      <td>1295</td>\n",
       "    </tr>\n",
       "    <tr>\n",
       "      <th>3421</th>\n",
       "      <td>2015</td>\n",
       "      <td>Team Fortress 2</td>\n",
       "      <td>1196</td>\n",
       "    </tr>\n",
       "  </tbody>\n",
       "</table>\n",
       "</div>"
      ],
      "text/plain": [
       "      year                             title  recomendaciones\n",
       "27    2010                   Team Fortress 2               20\n",
       "10    2010                       Garry's Mod                6\n",
       "11    2010                     Killing Floor                6\n",
       "164   2011                   Team Fortress 2              140\n",
       "165   2011                          Terraria               76\n",
       "134   2011                          Portal 2               50\n",
       "364   2012                   Team Fortress 2              480\n",
       "366   2012                          Terraria              148\n",
       "324   2012              Realm of the Mad God               75\n",
       "869   2013                   Team Fortress 2             1472\n",
       "605   2013                       Garry's Mod              614\n",
       "870   2013                          Terraria              540\n",
       "1944  2014                   Team Fortress 2             2860\n",
       "2078  2014                          Unturned             2525\n",
       "1783  2014                              Rust             2154\n",
       "2434  2015  Counter-Strike: Global Offensive             1369\n",
       "3599  2015                          Unturned             1295\n",
       "3421  2015                   Team Fortress 2             1196"
      ]
     },
     "execution_count": 102,
     "metadata": {},
     "output_type": "execute_result"
    }
   ],
   "source": [
    "# Filtrar las reseñas que cumplen con las condiciones\n",
    "filtered_reviews = df_reviews[(df_reviews['recommend'] == True) & (df_reviews['sentiment_analysis'].isin([1,2]))].copy()\n",
    "\n",
    "# Extraer el año de la columna 'posted'\n",
    "filtered_reviews['year'] = pd.to_datetime(filtered_reviews['posted']).dt.year\n",
    "\n",
    "# Combinar los DataFrames de juegos y reseñas\n",
    "merged_df = pd.merge(filtered_reviews, df_games, on='item_id')\n",
    "\n",
    "# Agrupar por año y juego, contar las recomendaciones y obtener los top 3 juegos por año\n",
    "top3_recomendados = (merged_df.groupby(['year', 'title'])\n",
    "                     .agg(recomendaciones=('recommend', 'count'))\n",
    "                     .reset_index()\n",
    "                     .sort_values(by=['year', 'recomendaciones'], ascending=[True, False])\n",
    "                     .groupby('year')\n",
    "                     .head(3))\n",
    "\n",
    "# Ahora top3_recomendados contiene el top 3 de juegos más recomendados por año\n",
    "top3_recomendados\n"
   ]
  },
  {
   "cell_type": "markdown",
   "metadata": {},
   "source": [
    "## Dataframe con los top 3 juegos no recomendados por año"
   ]
  },
  {
   "cell_type": "code",
   "execution_count": 103,
   "metadata": {},
   "outputs": [
    {
     "data": {
      "text/html": [
       "<div>\n",
       "<style scoped>\n",
       "    .dataframe tbody tr th:only-of-type {\n",
       "        vertical-align: middle;\n",
       "    }\n",
       "\n",
       "    .dataframe tbody tr th {\n",
       "        vertical-align: top;\n",
       "    }\n",
       "\n",
       "    .dataframe thead th {\n",
       "        text-align: right;\n",
       "    }\n",
       "</style>\n",
       "<table border=\"1\" class=\"dataframe\">\n",
       "  <thead>\n",
       "    <tr style=\"text-align: right;\">\n",
       "      <th></th>\n",
       "      <th>year</th>\n",
       "      <th>title</th>\n",
       "      <th>count</th>\n",
       "    </tr>\n",
       "  </thead>\n",
       "  <tbody>\n",
       "    <tr>\n",
       "      <th>1</th>\n",
       "      <td>2011</td>\n",
       "      <td>Men of War: Vietnam</td>\n",
       "      <td>1</td>\n",
       "    </tr>\n",
       "    <tr>\n",
       "      <th>0</th>\n",
       "      <td>2011</td>\n",
       "      <td>And Yet It Moves</td>\n",
       "      <td>2</td>\n",
       "    </tr>\n",
       "    <tr>\n",
       "      <th>2</th>\n",
       "      <td>2011</td>\n",
       "      <td>Team Fortress 2</td>\n",
       "      <td>2</td>\n",
       "    </tr>\n",
       "    <tr>\n",
       "      <th>3</th>\n",
       "      <td>2012</td>\n",
       "      <td>Red Faction®: Armageddon™</td>\n",
       "      <td>1</td>\n",
       "    </tr>\n",
       "    <tr>\n",
       "      <th>4</th>\n",
       "      <td>2012</td>\n",
       "      <td>Team Fortress 2</td>\n",
       "      <td>2</td>\n",
       "    </tr>\n",
       "    <tr>\n",
       "      <th>12</th>\n",
       "      <td>2013</td>\n",
       "      <td>Commander Keen</td>\n",
       "      <td>1</td>\n",
       "    </tr>\n",
       "    <tr>\n",
       "      <th>22</th>\n",
       "      <td>2013</td>\n",
       "      <td>Injustice: Gods Among Us Ultimate Edition</td>\n",
       "      <td>1</td>\n",
       "    </tr>\n",
       "    <tr>\n",
       "      <th>23</th>\n",
       "      <td>2013</td>\n",
       "      <td>Iron Warriors: T - 72 Tank Command</td>\n",
       "      <td>1</td>\n",
       "    </tr>\n",
       "    <tr>\n",
       "      <th>63</th>\n",
       "      <td>2014</td>\n",
       "      <td>Age of Empires II HD</td>\n",
       "      <td>1</td>\n",
       "    </tr>\n",
       "    <tr>\n",
       "      <th>66</th>\n",
       "      <td>2014</td>\n",
       "      <td>Alpha Prime</td>\n",
       "      <td>1</td>\n",
       "    </tr>\n",
       "    <tr>\n",
       "      <th>80</th>\n",
       "      <td>2014</td>\n",
       "      <td>Battlestations: Midway</td>\n",
       "      <td>1</td>\n",
       "    </tr>\n",
       "    <tr>\n",
       "      <th>273</th>\n",
       "      <td>2015</td>\n",
       "      <td>Act of Aggression - Reboot Edition</td>\n",
       "      <td>1</td>\n",
       "    </tr>\n",
       "    <tr>\n",
       "      <th>275</th>\n",
       "      <td>2015</td>\n",
       "      <td>Age of Empires II HD</td>\n",
       "      <td>1</td>\n",
       "    </tr>\n",
       "    <tr>\n",
       "      <th>276</th>\n",
       "      <td>2015</td>\n",
       "      <td>Alien Swarm</td>\n",
       "      <td>1</td>\n",
       "    </tr>\n",
       "  </tbody>\n",
       "</table>\n",
       "</div>"
      ],
      "text/plain": [
       "     year                                      title  count\n",
       "1    2011                        Men of War: Vietnam      1\n",
       "0    2011                           And Yet It Moves      2\n",
       "2    2011                            Team Fortress 2      2\n",
       "3    2012                  Red Faction®: Armageddon™      1\n",
       "4    2012                            Team Fortress 2      2\n",
       "12   2013                             Commander Keen      1\n",
       "22   2013  Injustice: Gods Among Us Ultimate Edition      1\n",
       "23   2013         Iron Warriors: T - 72 Tank Command      1\n",
       "63   2014                       Age of Empires II HD      1\n",
       "66   2014                                Alpha Prime      1\n",
       "80   2014                     Battlestations: Midway      1\n",
       "273  2015         Act of Aggression - Reboot Edition      1\n",
       "275  2015                       Age of Empires II HD      1\n",
       "276  2015                                Alien Swarm      1"
      ]
     },
     "execution_count": 103,
     "metadata": {},
     "output_type": "execute_result"
    }
   ],
   "source": [
    "# Filtrar los juegos menos recomendados y comentarios negativos\n",
    "negative_reviews = df_reviews[(df_reviews['recommend'] == False) & (df_reviews['sentiment_analysis'] == 0)].copy()\n",
    "\n",
    "# Extraer el año de la columna 'posted'\n",
    "negative_reviews['year'] = pd.to_datetime(negative_reviews['posted']).dt.year\n",
    "\n",
    "# Combinar los DataFrames utilizando la columna 'item_id'\n",
    "merged_data = pd.merge(df_games, negative_reviews, on='item_id')\n",
    "\n",
    "# Obtener el top 3 de juegos menos recomendados por año\n",
    "top3_no_recomendados = merged_data.groupby(['year', 'title']).size().reset_index(name='count')\n",
    "top3_no_recomendados = top3_no_recomendados.sort_values(['year', 'count']).groupby('year').head(3)\n",
    "\n",
    "top3_no_recomendados\n"
   ]
  },
  {
   "cell_type": "markdown",
   "metadata": {},
   "source": [
    "## Dataframe con el conteo de registros para cada sentimiento y por año de lanzamiento"
   ]
  },
  {
   "cell_type": "code",
   "execution_count": 104,
   "metadata": {},
   "outputs": [
    {
     "name": "stdout",
     "output_type": "stream",
     "text": [
      "sentiment_label  release_year  Negativo  Neutral  Positivo\n",
      "0                      1989.0       0.0      2.0       0.0\n",
      "1                      1990.0       1.0      0.0       4.0\n",
      "2                      1991.0       0.0      0.0       1.0\n",
      "3                      1992.0       0.0      4.0       2.0\n",
      "4                      1993.0       0.0      6.0       0.0\n",
      "5                      1994.0       0.0      6.0       5.0\n",
      "6                      1995.0       1.0      9.0       4.0\n",
      "7                      1996.0       1.0      0.0       4.0\n",
      "8                      1997.0       1.0     31.0      16.0\n",
      "9                      1998.0       6.0     67.0      19.0\n",
      "10                     1999.0       6.0     37.0       8.0\n",
      "11                     2000.0       6.0     54.0      28.0\n",
      "12                     2001.0       1.0     24.0       6.0\n",
      "13                     2002.0       1.0     37.0      10.0\n",
      "14                     2003.0      67.0    289.0      77.0\n",
      "15                     2004.0      31.0    287.0     180.0\n",
      "16                     2005.0      14.0    185.0      98.0\n",
      "17                     2006.0     327.0   2143.0    1185.0\n",
      "18                     2007.0     470.0   4043.0    2769.0\n",
      "19                     2008.0      37.0    328.0     170.0\n",
      "20                     2009.0     156.0   1326.0     661.0\n",
      "21                     2010.0     241.0   1738.0     959.0\n",
      "22                     2011.0     648.0   5224.0    3010.0\n",
      "23                     2012.0    1368.0   8688.0    4593.0\n",
      "24                     2013.0    1640.0  11555.0    5665.0\n",
      "25                     2014.0    1376.0   9257.0    4129.0\n",
      "26                     2015.0    1207.0   8432.0    3234.0\n",
      "27                     2016.0     279.0   2387.0    1178.0\n",
      "28                     2017.0     579.0   4971.0    2107.0\n"
     ]
    }
   ],
   "source": [
    "# Fusionar los dataframes en base a la columna 'item_id'\n",
    "merged_df = pd.merge(df_games, df_reviews, on='item_id')\n",
    "\n",
    "# Filtrar las filas donde el análisis de sentimiento no es nulo\n",
    "filtered_df = merged_df[merged_df['sentiment_analysis'].notnull()]\n",
    "\n",
    "# Mapear los valores de 'sentiment_analysis' a los tipos de sentimiento\n",
    "sentiment_mapping = {0: 'Negativo', 1: 'Neutral', 2: 'Positivo'}\n",
    "filtered_df['sentiment_label'] = filtered_df['sentiment_analysis'].map(sentiment_mapping)\n",
    "\n",
    "# Agrupar por 'release_year' y 'sentiment_label', contar registros y reindexar para tener una estructura de dataframe adecuada\n",
    "result = filtered_df.groupby(['release_year', 'sentiment_label']).size().reset_index(name='count')\n",
    "\n",
    "# Reestructurar los datos para tener un DataFrame con los tres tipos de sentimientos como columnas y el año como columna independiente\n",
    "conteo_sentimientos = result.pivot(index='release_year', columns='sentiment_label', values='count').fillna(0).reset_index()\n",
    "\n",
    "# Mostrar el resultado\n",
    "print(conteo_sentimientos)\n"
   ]
  },
  {
   "cell_type": "markdown",
   "metadata": {},
   "source": [
    "## Carga de los dataframe\n",
    "Se almacenan los dataframes en formato Parquet para optimizar la estructura de datos en el despliegue."
   ]
  },
  {
   "cell_type": "code",
   "execution_count": 105,
   "metadata": {},
   "outputs": [
    {
     "name": "stdout",
     "output_type": "stream",
     "text": [
      "DataFrame 'max_playtime_by_genre_year' guardado como '../Datasets/max_playtime_by_genre_year.parquet'\n",
      "DataFrame 'max_playtime_per_genre' guardado como '../Datasets/max_playtime_per_genre.parquet'\n",
      "DataFrame 'summary_playtime_per_year' guardado como '../Datasets/summary_playtime_per_year.parquet'\n",
      "DataFrame 'top3_recomendados' guardado como '../Datasets/top3_recomendados.parquet'\n",
      "DataFrame 'top3_no_recomendados' guardado como '../Datasets/top3_no_recomendados.parquet'\n",
      "DataFrame 'conteo_sentimientos' guardado como '../Datasets/conteo_sentimientos.parquet'\n"
     ]
    }
   ],
   "source": [
    "dfs = [df_reviews,max_playtime_by_genre_year, max_playtime_per_genre, summary_playtime_per_year,top3_recomendados,top3_no_recomendados,conteo_sentimientos]\n",
    "# Nombres correspondientes a cada DataFrame\n",
    "names = ['user_reviews','max_playtime_by_genre_year', 'max_playtime_per_genre', 'summary_playtime_per_year','top3_recomendados','top3_no_recomendados','conteo_sentimientos']\n",
    "\n",
    "for df, name in zip(dfs, names):\n",
    "    archivo = f'../Datasets/{name}.parquet'\n",
    "    df.to_parquet(archivo)\n",
    "    print(f\"DataFrame '{name}' guardado como '{archivo}'\")"
   ]
  }
 ],
 "metadata": {
  "kernelspec": {
   "display_name": "SoyHenry",
   "language": "python",
   "name": "python3"
  },
  "language_info": {
   "codemirror_mode": {
    "name": "ipython",
    "version": 3
   },
   "file_extension": ".py",
   "mimetype": "text/x-python",
   "name": "python",
   "nbconvert_exporter": "python",
   "pygments_lexer": "ipython3",
   "version": "3.11.5"
  }
 },
 "nbformat": 4,
 "nbformat_minor": 2
}
