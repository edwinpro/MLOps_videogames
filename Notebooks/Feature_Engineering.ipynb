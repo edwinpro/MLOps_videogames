{
 "cells": [
  {
   "cell_type": "markdown",
   "metadata": {},
   "source": [
    "# Feature Engineering\n",
    "Para consultar nuestra API, requerimos una nueva columna que indique los sentimientos de las reseñas de usuarios. Usaremos una reconocida librería de procesamiento de lenguaje natural para facilitar este proceso."
   ]
  },
  {
   "cell_type": "markdown",
   "metadata": {},
   "source": [
    "## Importaciones"
   ]
  },
  {
   "cell_type": "code",
   "execution_count": 2,
   "metadata": {},
   "outputs": [],
   "source": [
    "import pandas as pd\n",
    "import json\n",
    "from textblob import TextBlob"
   ]
  },
  {
   "cell_type": "markdown",
   "metadata": {},
   "source": [
    "## Preparación de conjuntos de datos"
   ]
  },
  {
   "cell_type": "code",
   "execution_count": 3,
   "metadata": {},
   "outputs": [],
   "source": [
    "# Extraer datos desde los archivos 'parquet' con información que se preparo en la etapa de ETL\n",
    "df_games = pd.read_parquet('../Datasets/steam_games.parquet')\n",
    "df_items = pd.read_parquet('../Datasets/user_items.parquet')\n",
    "df_reviews = pd.read_parquet('../Datasets/user_reviews.parquet')"
   ]
  },
  {
   "cell_type": "code",
   "execution_count": 4,
   "metadata": {},
   "outputs": [
    {
     "data": {
      "text/plain": [
       "Index(['genres', 'title', 'item_id', 'release_year'], dtype='object')"
      ]
     },
     "execution_count": 4,
     "metadata": {},
     "output_type": "execute_result"
    }
   ],
   "source": [
    "df_games.columns"
   ]
  },
  {
   "cell_type": "code",
   "execution_count": 5,
   "metadata": {},
   "outputs": [
    {
     "data": {
      "text/plain": [
       "Index(['item_id', 'playtime_forever', 'user_id'], dtype='object')"
      ]
     },
     "execution_count": 5,
     "metadata": {},
     "output_type": "execute_result"
    }
   ],
   "source": [
    "df_items.columns"
   ]
  },
  {
   "cell_type": "code",
   "execution_count": 12,
   "metadata": {},
   "outputs": [
    {
     "data": {
      "text/plain": [
       "Index(['user_id', 'user_url', 'posted', 'item_id', 'helpful', 'recommend',\n",
       "       'sentiment_analysis'],\n",
       "      dtype='object')"
      ]
     },
     "execution_count": 12,
     "metadata": {},
     "output_type": "execute_result"
    }
   ],
   "source": [
    "df_reviews.columns"
   ]
  },
  {
   "cell_type": "code",
   "execution_count": 11,
   "metadata": {},
   "outputs": [
    {
     "data": {
      "text/html": [
       "<div>\n",
       "<style scoped>\n",
       "    .dataframe tbody tr th:only-of-type {\n",
       "        vertical-align: middle;\n",
       "    }\n",
       "\n",
       "    .dataframe tbody tr th {\n",
       "        vertical-align: top;\n",
       "    }\n",
       "\n",
       "    .dataframe thead th {\n",
       "        text-align: right;\n",
       "    }\n",
       "</style>\n",
       "<table border=\"1\" class=\"dataframe\">\n",
       "  <thead>\n",
       "    <tr style=\"text-align: right;\">\n",
       "      <th></th>\n",
       "      <th>user_id</th>\n",
       "      <th>user_url</th>\n",
       "      <th>posted</th>\n",
       "      <th>item_id</th>\n",
       "      <th>helpful</th>\n",
       "      <th>recommend</th>\n",
       "      <th>sentiment_analysis</th>\n",
       "    </tr>\n",
       "  </thead>\n",
       "  <tbody>\n",
       "    <tr>\n",
       "      <th>0</th>\n",
       "      <td>76561197970982479</td>\n",
       "      <td>http://steamcommunity.com/profiles/76561197970...</td>\n",
       "      <td>2011-11-05</td>\n",
       "      <td>1250</td>\n",
       "      <td>No ratings yet</td>\n",
       "      <td>True</td>\n",
       "      <td>1</td>\n",
       "    </tr>\n",
       "    <tr>\n",
       "      <th>1</th>\n",
       "      <td>js41637</td>\n",
       "      <td>http://steamcommunity.com/id/js41637</td>\n",
       "      <td>2014-06-24</td>\n",
       "      <td>251610</td>\n",
       "      <td>15 of 20 people (75%) found this review helpful</td>\n",
       "      <td>True</td>\n",
       "      <td>1</td>\n",
       "    </tr>\n",
       "    <tr>\n",
       "      <th>3</th>\n",
       "      <td>doctr</td>\n",
       "      <td>http://steamcommunity.com/id/doctr</td>\n",
       "      <td>2013-10-14</td>\n",
       "      <td>250320</td>\n",
       "      <td>2 of 2 people (100%) found this review helpful</td>\n",
       "      <td>True</td>\n",
       "      <td>2</td>\n",
       "    </tr>\n",
       "    <tr>\n",
       "      <th>4</th>\n",
       "      <td>maplemage</td>\n",
       "      <td>http://steamcommunity.com/id/maplemage</td>\n",
       "      <td>2014-04-15</td>\n",
       "      <td>211420</td>\n",
       "      <td>35 of 43 people (81%) found this review helpful</td>\n",
       "      <td>True</td>\n",
       "      <td>1</td>\n",
       "    </tr>\n",
       "    <tr>\n",
       "      <th>5</th>\n",
       "      <td>Wackky</td>\n",
       "      <td>http://steamcommunity.com/id/Wackky</td>\n",
       "      <td>2014-05-05</td>\n",
       "      <td>249130</td>\n",
       "      <td>7 of 8 people (88%) found this review helpful</td>\n",
       "      <td>True</td>\n",
       "      <td>0</td>\n",
       "    </tr>\n",
       "    <tr>\n",
       "      <th>...</th>\n",
       "      <td>...</td>\n",
       "      <td>...</td>\n",
       "      <td>...</td>\n",
       "      <td>...</td>\n",
       "      <td>...</td>\n",
       "      <td>...</td>\n",
       "      <td>...</td>\n",
       "    </tr>\n",
       "    <tr>\n",
       "      <th>231273</th>\n",
       "      <td>kushikushigani</td>\n",
       "      <td>http://steamcommunity.com/id/kushikushigani</td>\n",
       "      <td>2015-12-30</td>\n",
       "      <td>332310</td>\n",
       "      <td>No ratings yet</td>\n",
       "      <td>True</td>\n",
       "      <td>1</td>\n",
       "    </tr>\n",
       "    <tr>\n",
       "      <th>231291</th>\n",
       "      <td>How51</td>\n",
       "      <td>http://steamcommunity.com/id/How51</td>\n",
       "      <td>2014-08-15</td>\n",
       "      <td>440</td>\n",
       "      <td>No ratings yet</td>\n",
       "      <td>True</td>\n",
       "      <td>1</td>\n",
       "    </tr>\n",
       "    <tr>\n",
       "      <th>231293</th>\n",
       "      <td>76561198111410893</td>\n",
       "      <td>http://steamcommunity.com/profiles/76561198111...</td>\n",
       "      <td>2014-08-02</td>\n",
       "      <td>304930</td>\n",
       "      <td>No ratings yet</td>\n",
       "      <td>True</td>\n",
       "      <td>1</td>\n",
       "    </tr>\n",
       "    <tr>\n",
       "      <th>231419</th>\n",
       "      <td>zaza147</td>\n",
       "      <td>http://steamcommunity.com/id/zaza147</td>\n",
       "      <td>2015-07-31</td>\n",
       "      <td>265630</td>\n",
       "      <td>No ratings yet</td>\n",
       "      <td>True</td>\n",
       "      <td>2</td>\n",
       "    </tr>\n",
       "    <tr>\n",
       "      <th>231499</th>\n",
       "      <td>lifeonhigh</td>\n",
       "      <td>http://steamcommunity.com/id/lifeonhigh</td>\n",
       "      <td>2015-12-20</td>\n",
       "      <td>304050</td>\n",
       "      <td>No ratings yet</td>\n",
       "      <td>True</td>\n",
       "      <td>1</td>\n",
       "    </tr>\n",
       "  </tbody>\n",
       "</table>\n",
       "<p>47599 rows × 7 columns</p>\n",
       "</div>"
      ],
      "text/plain": [
       "                  user_id                                           user_url  \\\n",
       "0       76561197970982479  http://steamcommunity.com/profiles/76561197970...   \n",
       "1                 js41637               http://steamcommunity.com/id/js41637   \n",
       "3                   doctr                 http://steamcommunity.com/id/doctr   \n",
       "4               maplemage             http://steamcommunity.com/id/maplemage   \n",
       "5                  Wackky                http://steamcommunity.com/id/Wackky   \n",
       "...                   ...                                                ...   \n",
       "231273     kushikushigani        http://steamcommunity.com/id/kushikushigani   \n",
       "231291              How51                 http://steamcommunity.com/id/How51   \n",
       "231293  76561198111410893  http://steamcommunity.com/profiles/76561198111...   \n",
       "231419            zaza147               http://steamcommunity.com/id/zaza147   \n",
       "231499         lifeonhigh            http://steamcommunity.com/id/lifeonhigh   \n",
       "\n",
       "           posted item_id                                          helpful  \\\n",
       "0      2011-11-05    1250                                   No ratings yet   \n",
       "1      2014-06-24  251610  15 of 20 people (75%) found this review helpful   \n",
       "3      2013-10-14  250320   2 of 2 people (100%) found this review helpful   \n",
       "4      2014-04-15  211420  35 of 43 people (81%) found this review helpful   \n",
       "5      2014-05-05  249130    7 of 8 people (88%) found this review helpful   \n",
       "...           ...     ...                                              ...   \n",
       "231273 2015-12-30  332310                                   No ratings yet   \n",
       "231291 2014-08-15     440                                   No ratings yet   \n",
       "231293 2014-08-02  304930                                   No ratings yet   \n",
       "231419 2015-07-31  265630                                   No ratings yet   \n",
       "231499 2015-12-20  304050                                   No ratings yet   \n",
       "\n",
       "        recommend  sentiment_analysis  \n",
       "0            True                   1  \n",
       "1            True                   1  \n",
       "3            True                   2  \n",
       "4            True                   1  \n",
       "5            True                   0  \n",
       "...           ...                 ...  \n",
       "231273       True                   1  \n",
       "231291       True                   1  \n",
       "231293       True                   1  \n",
       "231419       True                   2  \n",
       "231499       True                   1  \n",
       "\n",
       "[47599 rows x 7 columns]"
      ]
     },
     "execution_count": 11,
     "metadata": {},
     "output_type": "execute_result"
    }
   ],
   "source": [
    "df_reviews"
   ]
  },
  {
   "cell_type": "markdown",
   "metadata": {},
   "source": [
    "## Análisis de sentimientos\n",
    "Se pide crear una nueva columna llamada 'sentiment_analysis' que reemplace a 'review' donde se realice un análisis de sentimiento de los comentarios con la siguiente escala:\n",
    "\n",
    "0 si es malo,<br>\n",
    "1 si es neutral o esta sin review<br>\n",
    "2 si es positivo."
   ]
  },
  {
   "cell_type": "code",
   "execution_count": 8,
   "metadata": {},
   "outputs": [],
   "source": [
    "from textblob import TextBlob\n",
    "\n",
    "# Función para clasificar el sentimiento según la escala dada\n",
    "def classify_sentiment(polarity):\n",
    "    if polarity < -0.2:\n",
    "        return 0\n",
    "    elif polarity > 0.2:\n",
    "        return 2\n",
    "    else:\n",
    "        return 1\n",
    "\n",
    "# Aplicar el análisis de sentimiento y crear la nueva columna 'sentiment_analysis'\n",
    "df_reviews['sentiment_analysis'] = df_reviews['review'].apply(lambda x: classify_sentiment(TextBlob(x).sentiment.polarity))"
   ]
  },
  {
   "cell_type": "markdown",
   "metadata": {},
   "source": [
    "Finalmente, se elimina la columna de 'review'."
   ]
  },
  {
   "cell_type": "code",
   "execution_count": 9,
   "metadata": {},
   "outputs": [
    {
     "data": {
      "text/plain": [
       "Index(['user_id', 'user_url', 'posted', 'item_id', 'helpful', 'recommend',\n",
       "       'sentiment_analysis'],\n",
       "      dtype='object')"
      ]
     },
     "execution_count": 9,
     "metadata": {},
     "output_type": "execute_result"
    }
   ],
   "source": [
    "df_reviews = df_reviews.drop(columns=['review'])\n",
    "df_reviews.columns"
   ]
  },
  {
   "cell_type": "code",
   "execution_count": 10,
   "metadata": {},
   "outputs": [
    {
     "data": {
      "text/plain": [
       "user_id               0\n",
       "user_url              0\n",
       "posted                0\n",
       "item_id               0\n",
       "helpful               0\n",
       "recommend             0\n",
       "sentiment_analysis    0\n",
       "dtype: int64"
      ]
     },
     "execution_count": 10,
     "metadata": {},
     "output_type": "execute_result"
    }
   ],
   "source": [
    "#Verificamos si hay nulos\n",
    "df_reviews.isnull().sum().sort_values(ascending=False)"
   ]
  },
  {
   "cell_type": "markdown",
   "metadata": {},
   "source": [
    "## Género y el año con más horas jugadas"
   ]
  },
  {
   "cell_type": "markdown",
   "metadata": {},
   "source": [
    "Se crea el dataframe 'max_playtime_by_genre_year' con la información del año con más horas jugadas por género."
   ]
  },
  {
   "cell_type": "code",
   "execution_count": 52,
   "metadata": {},
   "outputs": [
    {
     "data": {
      "text/html": [
       "<div>\n",
       "<style scoped>\n",
       "    .dataframe tbody tr th:only-of-type {\n",
       "        vertical-align: middle;\n",
       "    }\n",
       "\n",
       "    .dataframe tbody tr th {\n",
       "        vertical-align: top;\n",
       "    }\n",
       "\n",
       "    .dataframe thead th {\n",
       "        text-align: right;\n",
       "    }\n",
       "</style>\n",
       "<table border=\"1\" class=\"dataframe\">\n",
       "  <thead>\n",
       "    <tr style=\"text-align: right;\">\n",
       "      <th></th>\n",
       "      <th>genres</th>\n",
       "      <th>release_year</th>\n",
       "      <th>playtime_forever</th>\n",
       "    </tr>\n",
       "  </thead>\n",
       "  <tbody>\n",
       "    <tr>\n",
       "      <th>26</th>\n",
       "      <td>Action</td>\n",
       "      <td>2012</td>\n",
       "      <td>1085635110</td>\n",
       "    </tr>\n",
       "    <tr>\n",
       "      <th>59</th>\n",
       "      <td>Adventure</td>\n",
       "      <td>2011</td>\n",
       "      <td>221707756</td>\n",
       "    </tr>\n",
       "    <tr>\n",
       "      <th>71</th>\n",
       "      <td>Animation &amp; Modeling</td>\n",
       "      <td>2015</td>\n",
       "      <td>1345545</td>\n",
       "    </tr>\n",
       "    <tr>\n",
       "      <th>75</th>\n",
       "      <td>Audio Production</td>\n",
       "      <td>2014</td>\n",
       "      <td>455463</td>\n",
       "    </tr>\n",
       "    <tr>\n",
       "      <th>104</th>\n",
       "      <td>Casual</td>\n",
       "      <td>2015</td>\n",
       "      <td>81708365</td>\n",
       "    </tr>\n",
       "    <tr>\n",
       "      <th>109</th>\n",
       "      <td>Design &amp; Illustration</td>\n",
       "      <td>2012</td>\n",
       "      <td>1930339</td>\n",
       "    </tr>\n",
       "    <tr>\n",
       "      <th>116</th>\n",
       "      <td>Early Access</td>\n",
       "      <td>2013</td>\n",
       "      <td>118902893</td>\n",
       "    </tr>\n",
       "    <tr>\n",
       "      <th>124</th>\n",
       "      <td>Education</td>\n",
       "      <td>2013</td>\n",
       "      <td>340567</td>\n",
       "    </tr>\n",
       "    <tr>\n",
       "      <th>141</th>\n",
       "      <td>Free to Play</td>\n",
       "      <td>2013</td>\n",
       "      <td>146213734</td>\n",
       "    </tr>\n",
       "    <tr>\n",
       "      <th>158</th>\n",
       "      <td>Indie</td>\n",
       "      <td>2006</td>\n",
       "      <td>446115272</td>\n",
       "    </tr>\n",
       "    <tr>\n",
       "      <th>178</th>\n",
       "      <td>Massively Multiplayer</td>\n",
       "      <td>2013</td>\n",
       "      <td>133376503</td>\n",
       "    </tr>\n",
       "    <tr>\n",
       "      <th>186</th>\n",
       "      <td>Photo Editing</td>\n",
       "      <td>2014</td>\n",
       "      <td>61659</td>\n",
       "    </tr>\n",
       "    <tr>\n",
       "      <th>208</th>\n",
       "      <td>RPG</td>\n",
       "      <td>2011</td>\n",
       "      <td>227959458</td>\n",
       "    </tr>\n",
       "    <tr>\n",
       "      <th>235</th>\n",
       "      <td>Racing</td>\n",
       "      <td>2015</td>\n",
       "      <td>37474907</td>\n",
       "    </tr>\n",
       "    <tr>\n",
       "      <th>257</th>\n",
       "      <td>Simulation</td>\n",
       "      <td>2006</td>\n",
       "      <td>444536391</td>\n",
       "    </tr>\n",
       "    <tr>\n",
       "      <th>273</th>\n",
       "      <td>Software Training</td>\n",
       "      <td>2014</td>\n",
       "      <td>412697</td>\n",
       "    </tr>\n",
       "    <tr>\n",
       "      <th>288</th>\n",
       "      <td>Sports</td>\n",
       "      <td>2015</td>\n",
       "      <td>41305040</td>\n",
       "    </tr>\n",
       "    <tr>\n",
       "      <th>314</th>\n",
       "      <td>Strategy</td>\n",
       "      <td>2013</td>\n",
       "      <td>145266750</td>\n",
       "    </tr>\n",
       "    <tr>\n",
       "      <th>324</th>\n",
       "      <td>Utilities</td>\n",
       "      <td>2014</td>\n",
       "      <td>2711695</td>\n",
       "    </tr>\n",
       "    <tr>\n",
       "      <th>333</th>\n",
       "      <td>Video Production</td>\n",
       "      <td>2015</td>\n",
       "      <td>1662650</td>\n",
       "    </tr>\n",
       "    <tr>\n",
       "      <th>337</th>\n",
       "      <td>Web Publishing</td>\n",
       "      <td>2012</td>\n",
       "      <td>1930339</td>\n",
       "    </tr>\n",
       "  </tbody>\n",
       "</table>\n",
       "</div>"
      ],
      "text/plain": [
       "                    genres  release_year  playtime_forever\n",
       "26                  Action          2012        1085635110\n",
       "59               Adventure          2011         221707756\n",
       "71    Animation & Modeling          2015           1345545\n",
       "75        Audio Production          2014            455463\n",
       "104                 Casual          2015          81708365\n",
       "109  Design & Illustration          2012           1930339\n",
       "116           Early Access          2013         118902893\n",
       "124              Education          2013            340567\n",
       "141           Free to Play          2013         146213734\n",
       "158                  Indie          2006         446115272\n",
       "178  Massively Multiplayer          2013         133376503\n",
       "186          Photo Editing          2014             61659\n",
       "208                    RPG          2011         227959458\n",
       "235                 Racing          2015          37474907\n",
       "257             Simulation          2006         444536391\n",
       "273      Software Training          2014            412697\n",
       "288                 Sports          2015          41305040\n",
       "314               Strategy          2013         145266750\n",
       "324              Utilities          2014           2711695\n",
       "333       Video Production          2015           1662650\n",
       "337         Web Publishing          2012           1930339"
      ]
     },
     "execution_count": 52,
     "metadata": {},
     "output_type": "execute_result"
    }
   ],
   "source": [
    "# Crear un dataframe combinando la información necesaria\n",
    "combined_df = pd.merge(df_items, df_games[['item_id', 'release_year', 'genres']], on='item_id', how='left')\n",
    "\n",
    "# Agrupar por género, año y sumar las horas jugadas\n",
    "grouped = combined_df.groupby(['genres', 'release_year'])['playtime_forever'].sum().reset_index()\n",
    "\n",
    "# Encontrar el año con más horas jugadas por género\n",
    "max_playtime_by_genre_year = grouped.loc[grouped.groupby('genres')['playtime_forever'].idxmax()]\n",
    "\n",
    "# Convertir la columna 'release_year' de flotante a entero\n",
    "max_playtime_by_genre_year['release_year'] = max_playtime_by_genre_year['release_year'].astype(int)\n",
    "\n",
    "# Mostrar el resultado\n",
    "max_playtime_by_genre_year\n",
    "\n"
   ]
  },
  {
   "cell_type": "markdown",
   "metadata": {},
   "source": [
    "Dataframe con el usuario que acumula más horas jugadas por género"
   ]
  },
  {
   "cell_type": "code",
   "execution_count": 55,
   "metadata": {},
   "outputs": [
    {
     "name": "stdout",
     "output_type": "stream",
     "text": [
      "Dataframe con el usuario que acumula más horas jugadas por género:\n",
      "                  user_id                 genres  playtime_forever\n",
      "485519            Sp3ctre                 Action           1692650\n",
      "472192       REBAS_AS_F-T              Adventure           2182066\n",
      "479391         ScottyG555   Animation & Modeling            168314\n",
      "447836        Lickidactyl       Audio Production            109916\n",
      "472195       REBAS_AS_F-T                 Casual           1224933\n",
      "479393         ScottyG555  Design & Illustration            168314\n",
      "18051   76561197978756659           Early Access            316969\n",
      "160609  76561198059330972              Education             65427\n",
      "570659         idonothack           Free to Play            808241\n",
      "472200       REBAS_AS_F-T                  Indie           2401378\n",
      "417826        Evilutional  Massively Multiplayer            688260\n",
      "483274           Sky_Wolf          Photo Editing             21885\n",
      "634706        shinomegami                    RPG           1023495\n",
      "412843    DownSyndromeKid                 Racing            743445\n",
      "577998           jimmynoe             Simulation           1062130\n",
      "447845        Lickidactyl      Software Training            109916\n",
      "26187   76561197995725436                 Sports            193206\n",
      "634711        shinomegami               Strategy           1104450\n",
      "248243  76561198073642113              Utilities            207651\n",
      "479403         ScottyG555       Video Production            168314\n",
      "506902            Xyphien         Web Publishing            142964\n"
     ]
    }
   ],
   "source": [
    "# Combinar los dataframes df_games y df_items en función de 'item_id'\n",
    "merged_df = pd.merge(df_games, df_items, on='item_id')\n",
    "\n",
    "# Convertir las horas jugadas a horas en lugar de minutos\n",
    "#merged_df['playtime_hours'] = merged_df['playtime_forever'] / 60\n",
    "\n",
    "# Calcular la suma total de horas jugadas por usuario y género\n",
    "user_genre_playtime = merged_df.groupby(['user_id', 'genres'])['playtime_forever'].sum().reset_index()\n",
    "\n",
    "# Encontrar el usuario que acumula más horas jugadas por género\n",
    "max_playtime_per_genre = user_genre_playtime.loc[user_genre_playtime.groupby('genres')['playtime_forever'].idxmax()]\n",
    "\n",
    "\n",
    "# Imprimir o trabajar con los resultados\n",
    "print(\"Dataframe con el usuario que acumula más horas jugadas por género:\")\n",
    "print(max_playtime_per_genre)"
   ]
  },
  {
   "cell_type": "code",
   "execution_count": 56,
   "metadata": {},
   "outputs": [
    {
     "data": {
      "text/plain": [
       "Index(['user_id', 'genres', 'playtime_forever'], dtype='object')"
      ]
     },
     "execution_count": 56,
     "metadata": {},
     "output_type": "execute_result"
    }
   ],
   "source": [
    "max_playtime_per_genre.columns"
   ]
  },
  {
   "cell_type": "markdown",
   "metadata": {},
   "source": [
    "Dataframe con la acumulación de horas jugadas por año de los usuarios del dataframe 'max_playtime_per_genre'"
   ]
  },
  {
   "cell_type": "code",
   "execution_count": 57,
   "metadata": {},
   "outputs": [
    {
     "name": "stdout",
     "output_type": "stream",
     "text": [
      "\n",
      "Dataframe con la acumulación de horas jugadas por año de los usuarios contenidos en el punto 1:\n",
      "               user_id  release_year  playtime_total_hours\n",
      "0    76561197978756659        1998.0              0.000000\n",
      "1    76561197978756659        1999.0              0.133333\n",
      "2    76561197978756659        2000.0              0.000000\n",
      "3    76561197978756659        2001.0              0.000000\n",
      "4    76561197978756659        2003.0              0.000000\n",
      "..                 ...           ...                   ...\n",
      "292        shinomegami        2013.0          18116.283333\n",
      "293        shinomegami        2014.0          18525.700000\n",
      "294        shinomegami        2015.0          18367.966667\n",
      "295        shinomegami        2016.0           2246.016667\n",
      "296        shinomegami        2017.0              6.750000\n",
      "\n",
      "[297 rows x 3 columns]\n"
     ]
    }
   ],
   "source": [
    "# Obtener los usuarios contenidos en el dataframe 'max_playtime_per_genre'\n",
    "users_of_interest = max_playtime_per_genre['user_id'].unique()\n",
    "\n",
    "# Filtrar el dataframe original de items para incluir solo a estos usuarios\n",
    "filtered_items_df = df_items[df_items['user_id'].isin(users_of_interest)]\n",
    "\n",
    "# Combinar los dataframes df_games y el filtrado de items en función de 'item_id'\n",
    "filtered_merged_df = pd.merge(df_games, filtered_items_df, on='item_id')\n",
    "\n",
    "# Calcular la suma total de horas jugadas por año\n",
    "playtime_per_year = filtered_merged_df.groupby(['user_id', 'release_year'])['playtime_forever'].sum().reset_index()\n",
    "playtime_per_year.rename(columns={'playtime_forever': 'playtime_total_minutes'}, inplace=True)\n",
    "\n",
    "# Convertir las horas jugadas a horas en lugar de minutos\n",
    "playtime_per_year['playtime_total_hours'] = playtime_per_year['playtime_total_minutes'] / 60\n",
    "\n",
    "# Resumen de horas jugadas por año de los usuarios seleccionados por género\n",
    "summary_playtime_per_year = playtime_per_year.groupby(['user_id', 'release_year'])['playtime_total_hours'].sum().reset_index()\n",
    "\n",
    "print(summary_playtime_per_year)"
   ]
  },
  {
   "cell_type": "markdown",
   "metadata": {},
   "source": [
    "Dataframe con los top 3 juegos mas recomendado por año"
   ]
  },
  {
   "cell_type": "code",
   "execution_count": 14,
   "metadata": {},
   "outputs": [
    {
     "name": "stdout",
     "output_type": "stream",
     "text": [
      "      release_year                     title  recommendation_count\n",
      "0           1989.0      Sword of the Samurai                     2\n",
      "1           1990.0            Commander Keen                     3\n",
      "2           1990.0                     LOOM™                     1\n",
      "3           1991.0             Crystal Caves                     1\n",
      "4           1992.0  Cosmo's Cosmic Adventure                     2\n",
      "...            ...                       ...                   ...\n",
      "2073        2016.0     Heroes &amp; Generals                   520\n",
      "2095        2016.0              SpeedRunners                   340\n",
      "2133        2017.0                  Unturned                  3820\n",
      "2129        2017.0                 Robocraft                  1260\n",
      "2106        2017.0     ARK: Survival Evolved                   730\n",
      "\n",
      "[80 rows x 3 columns]\n"
     ]
    }
   ],
   "source": [
    "# Filtrar las reseñas que son recomendadas y tienen comentarios positivos/neutrales\n",
    "recommended_reviews = df_reviews[(df_reviews['recommend'] == True) & (df_reviews['sentiment_analysis'].isin([1, 2]))]\n",
    "\n",
    "# Combinar la información de los juegos y las reseñas usando 'item_id'\n",
    "merged_data = pd.merge(recommended_reviews, df_games, on='item_id')\n",
    "\n",
    "# Obtener el top 3 de juegos más recomendados por año\n",
    "top3_recomendados = merged_data.groupby(['release_year', 'title']).size().reset_index(name='recommendation_count')\n",
    "top3_recomendados = top3_recomendados.sort_values(['release_year', 'recommendation_count'], ascending=[True, False]).groupby('release_year').head(3)\n",
    "\n",
    "# Mostrar el DataFrame con el top 3 de juegos más recomendados por año\n",
    "print(top3_recomendados)\n"
   ]
  },
  {
   "cell_type": "code",
   "execution_count": 27,
   "metadata": {},
   "outputs": [],
   "source": [
    "def UsersRecommend(anio):\n",
    "    # Verificar si el año proporcionado tiene datos en el DataFrame top3_recomendados\n",
    "    if anio not in top3_recomendados['release_year'].unique():\n",
    "        return f\"No hay datos disponibles para el año {anio}\"\n",
    "\n",
    "    # Filtrar el DataFrame top3_recomendados para el año proporcionado\n",
    "    top_games_year = top3_recomendados[top3_recomendados['release_year'] == anio]\n",
    "\n",
    "    # Verificar si hay menos de 3 juegos para el año consultado\n",
    "    if len(top_games_year) < 1:\n",
    "        return \"No hay suficientes juegos para mostrar el top 3\"\n",
    "\n",
    "    # Reiniciar el índice del DataFrame filtrado por año\n",
    "    top_games_year = top_games_year.reset_index(drop=True)\n",
    "\n",
    "    # Obtener el top 3 de juegos más recomendados para el año dado\n",
    "    top_3_games = top_games_year.head(3)\n",
    "\n",
    "    # Crear una lista con el formato especificado\n",
    "    top_3_list = []\n",
    "    for index, row in top_3_games.iterrows():\n",
    "        game_rank = index + 1  # Usar el índice + 1 como número de puesto\n",
    "        game_dict = {\"Puesto \" + str(game_rank): row['title']}\n",
    "        top_3_list.append(game_dict)\n",
    "\n",
    "    return top_3_list"
   ]
  },
  {
   "cell_type": "code",
   "execution_count": 29,
   "metadata": {},
   "outputs": [
    {
     "name": "stdout",
     "output_type": "stream",
     "text": [
      "[{'Puesto 1': 'Commander Keen'}, {'Puesto 2': 'LOOM™'}]\n"
     ]
    }
   ],
   "source": [
    "# Ejemplo de uso: Obtener el top 3 de juegos recomendados para el año 2022\n",
    "anio_elegido = 1990\n",
    "resultados = UsersRecommend(anio_elegido)\n",
    "print(resultados)"
   ]
  },
  {
   "cell_type": "markdown",
   "metadata": {},
   "source": [
    "## Carga de los dataframe\n",
    "Se almacenan los dataframes en formato Parquet para optimizar la estructura de datos en el despliegue."
   ]
  },
  {
   "cell_type": "code",
   "execution_count": 30,
   "metadata": {},
   "outputs": [
    {
     "ename": "NameError",
     "evalue": "name 'max_playtime_by_genre_year' is not defined",
     "output_type": "error",
     "traceback": [
      "\u001b[1;31m---------------------------------------------------------------------------\u001b[0m",
      "\u001b[1;31mNameError\u001b[0m                                 Traceback (most recent call last)",
      "\u001b[1;32mc:\\Users\\Usuario\\OneDrive\\Documentos\\SoyHenry\\LABS\\PI01-MLOPS\\Notebooks\\Feature_Engineering.ipynb Cell 28\u001b[0m line \u001b[0;36m1\n\u001b[1;32m----> <a href='vscode-notebook-cell:/c%3A/Users/Usuario/OneDrive/Documentos/SoyHenry/LABS/PI01-MLOPS/Notebooks/Feature_Engineering.ipynb#X32sZmlsZQ%3D%3D?line=0'>1</a>\u001b[0m dfs \u001b[39m=\u001b[39m [max_playtime_by_genre_year, max_playtime_per_genre, summary_playtime_per_year,top3_recomendados]\n\u001b[0;32m      <a href='vscode-notebook-cell:/c%3A/Users/Usuario/OneDrive/Documentos/SoyHenry/LABS/PI01-MLOPS/Notebooks/Feature_Engineering.ipynb#X32sZmlsZQ%3D%3D?line=1'>2</a>\u001b[0m \u001b[39m# Nombres correspondientes a cada DataFrame\u001b[39;00m\n\u001b[0;32m      <a href='vscode-notebook-cell:/c%3A/Users/Usuario/OneDrive/Documentos/SoyHenry/LABS/PI01-MLOPS/Notebooks/Feature_Engineering.ipynb#X32sZmlsZQ%3D%3D?line=2'>3</a>\u001b[0m names \u001b[39m=\u001b[39m [\u001b[39m'\u001b[39m\u001b[39mmax_playtime_by_genre_year\u001b[39m\u001b[39m'\u001b[39m, \u001b[39m'\u001b[39m\u001b[39mmax_playtime_per_genre\u001b[39m\u001b[39m'\u001b[39m, \u001b[39m'\u001b[39m\u001b[39msummary_playtime_per_year\u001b[39m\u001b[39m'\u001b[39m,\u001b[39m'\u001b[39m\u001b[39mtop3_recomendados\u001b[39m\u001b[39m'\u001b[39m]\n",
      "\u001b[1;31mNameError\u001b[0m: name 'max_playtime_by_genre_year' is not defined"
     ]
    }
   ],
   "source": [
    "dfs = [max_playtime_by_genre_year, max_playtime_per_genre, summary_playtime_per_year,top3_recomendados]\n",
    "# Nombres correspondientes a cada DataFrame\n",
    "names = ['max_playtime_by_genre_year', 'max_playtime_per_genre', 'summary_playtime_per_year','top3_recomendados']\n",
    "\n",
    "for df, name in zip(dfs, names):\n",
    "    archivo = f'../Datasets/{name}.parquet'\n",
    "    df.to_parquet(archivo)\n",
    "    print(f\"DataFrame '{name}' guardado como '{archivo}'\")"
   ]
  }
 ],
 "metadata": {
  "kernelspec": {
   "display_name": "SoyHenry",
   "language": "python",
   "name": "python3"
  },
  "language_info": {
   "codemirror_mode": {
    "name": "ipython",
    "version": 3
   },
   "file_extension": ".py",
   "mimetype": "text/x-python",
   "name": "python",
   "nbconvert_exporter": "python",
   "pygments_lexer": "ipython3",
   "version": "3.11.5"
  }
 },
 "nbformat": 4,
 "nbformat_minor": 2
}
